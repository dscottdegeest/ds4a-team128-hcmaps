{
 "cells": [
  {
   "cell_type": "code",
   "execution_count": 1,
   "metadata": {},
   "outputs": [
    {
     "name": "stdout",
     "output_type": "stream",
     "text": [
      "Requirement already satisfied: attrs in c:\\users\\godin033\\anaconda3\\lib\\site-packages (from -r requirements.txt (line 1)) (19.3.0)\n",
      "Requirement already satisfied: backcall in c:\\users\\godin033\\anaconda3\\lib\\site-packages (from -r requirements.txt (line 2)) (0.2.0)\n",
      "Requirement already satisfied: beautifulsoup4 in c:\\users\\godin033\\anaconda3\\lib\\site-packages (from -r requirements.txt (line 3)) (4.9.1)\n",
      "Requirement already satisfied: bleach in c:\\users\\godin033\\anaconda3\\lib\\site-packages (from -r requirements.txt (line 4)) (3.1.5)\n",
      "Requirement already satisfied: cbor2 in c:\\users\\godin033\\anaconda3\\lib\\site-packages (from -r requirements.txt (line 5)) (5.3.0)\n",
      "Requirement already satisfied: certifi in c:\\users\\godin033\\anaconda3\\lib\\site-packages (from -r requirements.txt (line 6)) (2020.6.20)\n",
      "Requirement already satisfied: chardet in c:\\users\\godin033\\anaconda3\\lib\\site-packages (from -r requirements.txt (line 7)) (3.0.4)\n",
      "Requirement already satisfied: civis in c:\\users\\godin033\\anaconda3\\lib\\site-packages (from -r requirements.txt (line 8)) (1.15.1)\n",
      "Requirement already satisfied: Click in c:\\users\\godin033\\anaconda3\\lib\\site-packages (from -r requirements.txt (line 9)) (7.1.2)\n",
      "Requirement already satisfied: cloudpickle in c:\\users\\godin033\\anaconda3\\lib\\site-packages (from -r requirements.txt (line 10)) (1.5.0)\n",
      "Requirement already satisfied: cycler in c:\\users\\godin033\\anaconda3\\lib\\site-packages (from -r requirements.txt (line 11)) (0.10.0)\n",
      "Requirement already satisfied: dask in c:\\users\\godin033\\anaconda3\\lib\\site-packages (from -r requirements.txt (line 12)) (2.20.0)\n",
      "Requirement already satisfied: decorator in c:\\users\\godin033\\anaconda3\\lib\\site-packages (from -r requirements.txt (line 13)) (4.4.2)\n",
      "Requirement already satisfied: defusedxml in c:\\users\\godin033\\anaconda3\\lib\\site-packages (from -r requirements.txt (line 14)) (0.6.0)\n",
      "Requirement already satisfied: entrypoints in c:\\users\\godin033\\anaconda3\\lib\\site-packages (from -r requirements.txt (line 15)) (0.3)\n",
      "Requirement already satisfied: et-xmlfile in c:\\users\\godin033\\anaconda3\\lib\\site-packages (from -r requirements.txt (line 16)) (1.0.1)\n",
      "Requirement already satisfied: greenlet in c:\\users\\godin033\\anaconda3\\lib\\site-packages (from -r requirements.txt (line 17)) (0.4.16)\n",
      "Requirement already satisfied: idna in c:\\users\\godin033\\anaconda3\\lib\\site-packages (from -r requirements.txt (line 18)) (2.10)\n",
      "Requirement already satisfied: importlib-metadata in c:\\users\\godin033\\anaconda3\\lib\\site-packages (from -r requirements.txt (line 19)) (1.7.0)\n",
      "Requirement already satisfied: ipykernel in c:\\users\\godin033\\anaconda3\\lib\\site-packages (from -r requirements.txt (line 20)) (5.3.2)\n",
      "Requirement already satisfied: ipython in c:\\users\\godin033\\anaconda3\\lib\\site-packages (from -r requirements.txt (line 21)) (7.16.1)\n",
      "Requirement already satisfied: ipython-genutils in c:\\users\\godin033\\anaconda3\\lib\\site-packages (from -r requirements.txt (line 22)) (0.2.0)\n",
      "Requirement already satisfied: ipywidgets in c:\\users\\godin033\\anaconda3\\lib\\site-packages (from -r requirements.txt (line 23)) (7.5.1)\n",
      "Requirement already satisfied: jdcal in c:\\users\\godin033\\anaconda3\\lib\\site-packages (from -r requirements.txt (line 24)) (1.4.1)\n",
      "Requirement already satisfied: jedi in c:\\users\\godin033\\anaconda3\\lib\\site-packages (from -r requirements.txt (line 25)) (0.17.1)\n",
      "Requirement already satisfied: Jinja2 in c:\\users\\godin033\\anaconda3\\lib\\site-packages (from -r requirements.txt (line 26)) (2.11.2)\n",
      "Requirement already satisfied: joblib in c:\\users\\godin033\\anaconda3\\lib\\site-packages (from -r requirements.txt (line 27)) (0.16.0)\n",
      "Requirement already satisfied: jsonref in c:\\users\\godin033\\anaconda3\\lib\\site-packages (from -r requirements.txt (line 28)) (0.2)\n",
      "Requirement already satisfied: jsonschema in c:\\users\\godin033\\anaconda3\\lib\\site-packages (from -r requirements.txt (line 29)) (3.2.0)\n",
      "Requirement already satisfied: jupyter in c:\\users\\godin033\\anaconda3\\lib\\site-packages (from -r requirements.txt (line 30)) (1.0.0)\n",
      "Requirement already satisfied: jupyter-client in c:\\users\\godin033\\anaconda3\\lib\\site-packages (from -r requirements.txt (line 31)) (6.1.6)\n",
      "Requirement already satisfied: jupyter-console in c:\\users\\godin033\\anaconda3\\lib\\site-packages (from -r requirements.txt (line 32)) (6.1.0)\n",
      "Requirement already satisfied: jupyter-core in c:\\users\\godin033\\anaconda3\\lib\\site-packages (from -r requirements.txt (line 33)) (4.6.3)\n",
      "Requirement already satisfied: jupyterlab-widgets in c:\\users\\godin033\\anaconda3\\lib\\site-packages (from -r requirements.txt (line 34)) (1.0.0)\n",
      "Requirement already satisfied: jupyterthemes in c:\\users\\godin033\\anaconda3\\lib\\site-packages (from -r requirements.txt (line 35)) (0.20.0)\n",
      "Requirement already satisfied: kiwisolver in c:\\users\\godin033\\anaconda3\\lib\\site-packages (from -r requirements.txt (line 36)) (1.2.0)\n",
      "Requirement already satisfied: lesscpy in c:\\users\\godin033\\anaconda3\\lib\\site-packages (from -r requirements.txt (line 37)) (0.14.0)\n",
      "Requirement already satisfied: MarkupSafe in c:\\users\\godin033\\anaconda3\\lib\\site-packages (from -r requirements.txt (line 38)) (1.1.1)\n",
      "Requirement already satisfied: matplotlib in c:\\users\\godin033\\anaconda3\\lib\\site-packages (from -r requirements.txt (line 39)) (3.2.2)\n",
      "Requirement already satisfied: mistune in c:\\users\\godin033\\anaconda3\\lib\\site-packages (from -r requirements.txt (line 40)) (0.8.4)\n",
      "Requirement already satisfied: nbconvert in c:\\users\\godin033\\anaconda3\\lib\\site-packages (from -r requirements.txt (line 41)) (5.6.1)\n",
      "Requirement already satisfied: nbformat in c:\\users\\godin033\\anaconda3\\lib\\site-packages (from -r requirements.txt (line 42)) (5.0.7)\n",
      "Requirement already satisfied: notebook in c:\\users\\godin033\\anaconda3\\lib\\site-packages (from -r requirements.txt (line 43)) (6.0.3)\n",
      "Requirement already satisfied: numpy in c:\\users\\godin033\\anaconda3\\lib\\site-packages (from -r requirements.txt (line 44)) (1.18.5)\n",
      "Requirement already satisfied: openpyxl in c:\\users\\godin033\\anaconda3\\lib\\site-packages (from -r requirements.txt (line 45)) (3.0.4)\n",
      "Requirement already satisfied: pandas in c:\\users\\godin033\\anaconda3\\lib\\site-packages (from -r requirements.txt (line 46)) (1.0.5)\n",
      "Requirement already satisfied: pandocfilters in c:\\users\\godin033\\anaconda3\\lib\\site-packages (from -r requirements.txt (line 47)) (1.4.2)\n",
      "Requirement already satisfied: parso in c:\\users\\godin033\\anaconda3\\lib\\site-packages (from -r requirements.txt (line 48)) (0.7.0)\n",
      "Requirement already satisfied: pexpect in c:\\users\\godin033\\anaconda3\\lib\\site-packages (from -r requirements.txt (line 49)) (4.8.0)\n",
      "Requirement already satisfied: pickleshare in c:\\users\\godin033\\anaconda3\\lib\\site-packages (from -r requirements.txt (line 50)) (0.7.5)\n",
      "Requirement already satisfied: Pillow in c:\\users\\godin033\\anaconda3\\lib\\site-packages (from -r requirements.txt (line 51)) (7.2.0)\n",
      "Requirement already satisfied: pip in c:\\users\\godin033\\anaconda3\\lib\\site-packages (from -r requirements.txt (line 52)) (20.1.1)\n",
      "Requirement already satisfied: ply in c:\\users\\godin033\\anaconda3\\lib\\site-packages (from -r requirements.txt (line 53)) (3.11)\n",
      "Requirement already satisfied: prometheus-client in c:\\users\\godin033\\anaconda3\\lib\\site-packages (from -r requirements.txt (line 54)) (0.8.0)\n",
      "Requirement already satisfied: prompt-toolkit in c:\\users\\godin033\\anaconda3\\lib\\site-packages (from -r requirements.txt (line 55)) (3.0.5)\n",
      "Requirement already satisfied: ptyprocess in c:\\users\\godin033\\anaconda3\\lib\\site-packages (from -r requirements.txt (line 56)) (0.7.0)\n",
      "Requirement already satisfied: pubnub in c:\\users\\godin033\\anaconda3\\lib\\site-packages (from -r requirements.txt (line 57)) (5.1.3)\n",
      "Requirement already satisfied: pycryptodomex in c:\\users\\godin033\\anaconda3\\lib\\site-packages (from -r requirements.txt (line 58)) (3.10.1)\n",
      "Requirement already satisfied: Pygments in c:\\users\\godin033\\anaconda3\\lib\\site-packages (from -r requirements.txt (line 59)) (2.6.1)\n",
      "Requirement already satisfied: pyparsing in c:\\users\\godin033\\anaconda3\\lib\\site-packages (from -r requirements.txt (line 60)) (2.4.7)\n",
      "Requirement already satisfied: pyrsistent in c:\\users\\godin033\\anaconda3\\lib\\site-packages (from -r requirements.txt (line 61)) (0.16.0)\n",
      "Requirement already satisfied: python-dateutil in c:\\users\\godin033\\anaconda3\\lib\\site-packages (from -r requirements.txt (line 62)) (2.8.1)\n",
      "Requirement already satisfied: pytz in c:\\users\\godin033\\anaconda3\\lib\\site-packages (from -r requirements.txt (line 63)) (2020.1)\n",
      "Requirement already satisfied: pyxlsb in c:\\users\\godin033\\anaconda3\\lib\\site-packages (from -r requirements.txt (line 64)) (1.0.8)\n",
      "Requirement already satisfied: PyYAML in c:\\users\\godin033\\anaconda3\\lib\\site-packages (from -r requirements.txt (line 65)) (5.3.1)\n",
      "Requirement already satisfied: pyzmq in c:\\users\\godin033\\anaconda3\\lib\\site-packages (from -r requirements.txt (line 66)) (19.0.1)\n",
      "Requirement already satisfied: qtconsole in c:\\users\\godin033\\anaconda3\\lib\\site-packages (from -r requirements.txt (line 67)) (4.7.5)\n",
      "Requirement already satisfied: QtPy in c:\\users\\godin033\\anaconda3\\lib\\site-packages (from -r requirements.txt (line 68)) (1.9.0)\n",
      "Requirement already satisfied: requests in c:\\users\\godin033\\anaconda3\\lib\\site-packages (from -r requirements.txt (line 69)) (2.24.0)\n",
      "Requirement already satisfied: scipy in c:\\users\\godin033\\anaconda3\\lib\\site-packages (from -r requirements.txt (line 70)) (1.5.0)\n",
      "Requirement already satisfied: seaborn in c:\\users\\godin033\\anaconda3\\lib\\site-packages (from -r requirements.txt (line 71)) (0.10.1)\n",
      "Requirement already satisfied: Send2Trash in c:\\users\\godin033\\anaconda3\\lib\\site-packages (from -r requirements.txt (line 72)) (1.5.0)\n",
      "Requirement already satisfied: setuptools in c:\\users\\godin033\\anaconda3\\lib\\site-packages (from -r requirements.txt (line 73)) (49.2.0.post20200714)\n",
      "Requirement already satisfied: six in c:\\users\\godin033\\anaconda3\\lib\\site-packages (from -r requirements.txt (line 74)) (1.15.0)\n",
      "Requirement already satisfied: soupsieve in c:\\users\\godin033\\anaconda3\\lib\\site-packages (from -r requirements.txt (line 75)) (2.0.1)\n",
      "Requirement already satisfied: SQLAlchemy in c:\\users\\godin033\\anaconda3\\lib\\site-packages (from -r requirements.txt (line 76)) (1.3.18)\n",
      "Requirement already satisfied: terminado in c:\\users\\godin033\\anaconda3\\lib\\site-packages (from -r requirements.txt (line 77)) (0.8.3)\n",
      "Requirement already satisfied: testpath in c:\\users\\godin033\\anaconda3\\lib\\site-packages (from -r requirements.txt (line 78)) (0.4.4)\n",
      "Requirement already satisfied: tornado in c:\\users\\godin033\\anaconda3\\lib\\site-packages (from -r requirements.txt (line 79)) (6.0.4)\n",
      "Requirement already satisfied: traitlets in c:\\users\\godin033\\anaconda3\\lib\\site-packages (from -r requirements.txt (line 80)) (4.3.3)\n",
      "Requirement already satisfied: typing-extensions in c:\\users\\godin033\\anaconda3\\lib\\site-packages (from -r requirements.txt (line 81)) (3.10.0.0)\n",
      "Requirement already satisfied: urllib3 in c:\\users\\godin033\\anaconda3\\lib\\site-packages (from -r requirements.txt (line 82)) (1.25.9)\n",
      "Requirement already satisfied: wcwidth in c:\\users\\godin033\\anaconda3\\lib\\site-packages (from -r requirements.txt (line 83)) (0.2.5)\n",
      "Requirement already satisfied: webencodings in c:\\users\\godin033\\anaconda3\\lib\\site-packages (from -r requirements.txt (line 84)) (0.5.1)\n",
      "Requirement already satisfied: wheel in c:\\users\\godin033\\anaconda3\\lib\\site-packages (from -r requirements.txt (line 85)) (0.34.2)\n",
      "Requirement already satisfied: widgetsnbextension in c:\\users\\godin033\\anaconda3\\lib\\site-packages (from -r requirements.txt (line 86)) (3.5.1)\n",
      "Requirement already satisfied: xlrd in c:\\users\\godin033\\anaconda3\\lib\\site-packages (from -r requirements.txt (line 87)) (1.2.0)\n",
      "Requirement already satisfied: zipp in c:\\users\\godin033\\anaconda3\\lib\\site-packages (from -r requirements.txt (line 88)) (3.1.0)\n",
      "Requirement already satisfied: packaging in c:\\users\\godin033\\anaconda3\\lib\\site-packages (from bleach->-r requirements.txt (line 4)) (20.4)\n",
      "Requirement already satisfied: tenacity<7,>=6.2 in c:\\users\\godin033\\anaconda3\\lib\\site-packages (from civis->-r requirements.txt (line 8)) (6.3.1)\n",
      "Requirement already satisfied: colorama; sys_platform == \"win32\" in c:\\users\\godin033\\anaconda3\\lib\\site-packages (from ipython->-r requirements.txt (line 21)) (0.4.3)\n",
      "Requirement already satisfied: pywin32>=1.0; sys_platform == \"win32\" in c:\\users\\godin033\\anaconda3\\lib\\site-packages (from jupyter-core->-r requirements.txt (line 33)) (227)\n",
      "Requirement already satisfied: aiohttp in c:\\users\\godin033\\anaconda3\\lib\\site-packages (from pubnub->-r requirements.txt (line 57)) (3.7.4.post0)\n",
      "Requirement already satisfied: yarl<2.0,>=1.0 in c:\\users\\godin033\\anaconda3\\lib\\site-packages (from aiohttp->pubnub->-r requirements.txt (line 57)) (1.6.3)\n",
      "Requirement already satisfied: async-timeout<4.0,>=3.0 in c:\\users\\godin033\\anaconda3\\lib\\site-packages (from aiohttp->pubnub->-r requirements.txt (line 57)) (3.0.1)\n",
      "Requirement already satisfied: multidict<7.0,>=4.5 in c:\\users\\godin033\\anaconda3\\lib\\site-packages (from aiohttp->pubnub->-r requirements.txt (line 57)) (5.1.0)\n"
     ]
    }
   ],
   "source": [
    "#use this command to install the required packages \n",
    "!pip install -r requirements.txt "
   ]
  },
  {
   "cell_type": "code",
   "execution_count": 78,
   "metadata": {},
   "outputs": [],
   "source": [
    "#install these packages to get the resources you need\n",
    "import pandas as pd\n",
    "import numpy as np\n",
    "import requests\n",
    "import dask as dd"
   ]
  },
  {
   "cell_type": "code",
   "execution_count": 82,
   "metadata": {},
   "outputs": [
    {
     "name": "stdout",
     "output_type": "stream",
     "text": [
      "Wall time: 3min 53s\n"
     ]
    }
   ],
   "source": [
    "%%time \n",
    "#here is the link to the file in Google Drive\n",
    "\n",
    "url_raw = 'https://drive.google.com/file/d/13vj4YxKRs1Tw1VPGhTefBxxKQuC5pRd_/view?usp=sharing'\n",
    "#url_raw='https://drive.google.com/drive/u/0/folders/1uccHupGyj0IezrsPaVD0w_1DJ9mYbPB8'\n",
    "# url_raw_mn = 'https://drive.google.com/file/d/1YRh58UiKWNtxfvYa0IzFF3oYL42iBs7d/view?usp=sharing'\n",
    "\n",
    "req = requests.get(url_raw)\n",
    "url_content = req.content\n",
    "with open('test_data.csv', encoding=\"utf8\") as file:\n",
    "    df=pd.read_csv(file,delimiter=',')\n",
    "\n",
    "# req_mn = requests.get(url_raw_mn)\n",
    "# url_content_mn = req_mn.content\n",
    "# with open('test_data_mn.csv',) as file_mn:\n",
    "#     df_mn=pd.read_csv(file_mn,delimiter=',')"
   ]
  },
  {
   "cell_type": "code",
   "execution_count": 83,
   "metadata": {},
   "outputs": [
    {
     "name": "stdout",
     "output_type": "stream",
     "text": [
      "   vb_voterbase_id vb_voterbase_household_id vb_tsmart_exact_address_track  \\\n",
      "0  AK-000000000020      Y000000186098323KYLE              Y000000186098323   \n",
      "1  AK-000000000250    Y000000182911889OSWALD              Y000000182911889   \n",
      "2  AK-000000000509    Y000000235819126HOLMES              Y000000235819126   \n",
      "3  AK-000000000711     Y000000140159129SCOTT              Y000000140159129   \n",
      "4  AK-000000001144    Y000000084251981LARSEN              Y000000084251981   \n",
      "\n",
      "   vb_tsmart_latitude  vb_tsmart_longitude  vb_tsmart_zip vb_tsmart_state  \\\n",
      "0           61.095810          -149.828888          99516              AK   \n",
      "1           61.184738          -149.751389          99504              AK   \n",
      "2           48.383949          -115.551353          59923              MT   \n",
      "3           61.319233          -149.532120          99577              AK   \n",
      "4           61.423569          -149.480682          99567              AK   \n",
      "\n",
      "  vb_tsmart_level      vb_tsmart_county_name  vb_tsmart_county_code  ...  \\\n",
      "0          Street  MUNICIPALITY OF ANCHORAGE                   20.0  ...   \n",
      "1          Street  MUNICIPALITY OF ANCHORAGE                   20.0  ...   \n",
      "2          Street                    LINCOLN                   53.0  ...   \n",
      "3          Street  MUNICIPALITY OF ANCHORAGE                   20.0  ...   \n",
      "4          Street  MUNICIPALITY OF ANCHORAGE                   20.0  ...   \n",
      "\n",
      "  vb_business_revenue_range tb_business_owner_flg tb_boah_flg  \\\n",
      "0                       NaN                   NaN         NaN   \n",
      "1                         A                   1.0         1.0   \n",
      "2                       NaN                   NaN         NaN   \n",
      "3                         A                   NaN         1.0   \n",
      "4                       NaN                   NaN         NaN   \n",
      "\n",
      "  tb_boah_biz_size_cd  tb_boah_biz_source_cd  tb_boah_biz_rank_cd  \\\n",
      "0                 NaN                    NaN                  NaN   \n",
      "1                   B                      E                  1.0   \n",
      "2                 NaN                    NaN                  NaN   \n",
      "3                   B                      E                  NaN   \n",
      "4                 NaN                    NaN                  NaN   \n",
      "\n",
      "   tb_boah_biz_func_cd  tb_boah_biz_revenue_cd  tb_boah_biz_sic_cd  \\\n",
      "0                  NaN                     NaN                 NaN   \n",
      "1                    D                       A              8748.0   \n",
      "2                  NaN                     NaN                 NaN   \n",
      "3                  NaN                       A                 1.0   \n",
      "4                  NaN                     NaN                 NaN   \n",
      "\n",
      "   tb_boah_biz_sic_2_cd  \n",
      "0                   NaN  \n",
      "1                  87.0  \n",
      "2                   NaN  \n",
      "3                   0.0  \n",
      "4                   NaN  \n",
      "\n",
      "[5 rows x 41 columns]\n",
      "(16819676, 41)\n"
     ]
    }
   ],
   "source": [
    "#look at the properties of the two datasets \n",
    "print(df.head())\n",
    "print(df.shape)\n",
    "\n",
    "\n",
    "# print(df_mn.head())\n",
    "# print(df_mn.shape)"
   ]
  },
  {
   "cell_type": "code",
   "execution_count": 84,
   "metadata": {},
   "outputs": [
    {
     "data": {
      "text/plain": [
       "Index(['vb_voterbase_id', 'vb_voterbase_household_id',\n",
       "       'vb_tsmart_exact_address_track', 'vb_tsmart_latitude',\n",
       "       'vb_tsmart_longitude', 'vb_tsmart_zip', 'vb_tsmart_state',\n",
       "       'vb_tsmart_level', 'vb_tsmart_county_name', 'vb_tsmart_county_code',\n",
       "       'add_type', 'tsmart_geo_confidence', 'vb_voterbase_gender',\n",
       "       'vb_voterbase_race', 'vb_education', 'tb_education_cd',\n",
       "       'tb_college_age_flg', 'tb_starting_out_flg', 'tb_career_bldr_flg',\n",
       "       'tb_prime_earner_flg', 'tb_retiree_flg', 'vb_occupation',\n",
       "       'tb_occupation_cd', 'xpg_ind_lvl_occupation_code',\n",
       "       'xpg_ind_lvl_occupation_group', 'hh_income', 'tb_income_range_prem_cd',\n",
       "       'xpg_ind_lvl_business_owner', 'vb_business_owner_indicator',\n",
       "       'vb_business_size_code', 'vb_business_type',\n",
       "       'vb_business_revenue_range', 'tb_business_owner_flg', 'tb_boah_flg',\n",
       "       'tb_boah_biz_size_cd', 'tb_boah_biz_source_cd', 'tb_boah_biz_rank_cd',\n",
       "       'tb_boah_biz_func_cd', 'tb_boah_biz_revenue_cd', 'tb_boah_biz_sic_cd',\n",
       "       'tb_boah_biz_sic_2_cd'],\n",
       "      dtype='object')"
      ]
     },
     "execution_count": 84,
     "metadata": {},
     "output_type": "execute_result"
    }
   ],
   "source": [
    "df.columns"
   ]
  },
  {
   "cell_type": "markdown",
   "metadata": {},
   "source": [
    "# Data cleaning for Human Capital Project"
   ]
  },
  {
   "cell_type": "markdown",
   "metadata": {},
   "source": [
    "First Goal: Create a column that identifies whether or not someone works in tech based upon a) their occupation status and/or b) working for/owning a company with a SIC code in the technology sector (i.e., any org with a code in the office of technology) "
   ]
  },
  {
   "cell_type": "code",
   "execution_count": 85,
   "metadata": {},
   "outputs": [
    {
     "data": {
      "text/plain": [
       "vb_occupation\n",
       "2     3621341\n",
       "3      406126\n",
       "5      943909\n",
       "6     2478940\n",
       "7     3009062\n",
       "10    2094179\n",
       "11     548167\n",
       "13     219014\n",
       "15     225486\n",
       "17    2186340\n",
       "18     834167\n",
       "21     175299\n",
       "38      61597\n",
       "52      16049\n",
       "Name: vb_occupation, dtype: int64"
      ]
     },
     "execution_count": 85,
     "metadata": {},
     "output_type": "execute_result"
    }
   ],
   "source": [
    "# Data cleaning for test mn data, but can be motified for larger dataset (do not want to crash my laptop while testing)\n",
    "##Need to create a binary column that identifies if someone is in tech\n",
    "df.groupby('vb_occupation')['vb_occupation'].count()"
   ]
  },
  {
   "cell_type": "code",
   "execution_count": 86,
   "metadata": {},
   "outputs": [
    {
     "data": {
      "text/plain": [
       "array([ 2, 17,  5, 10, 18,  7,  3,  6, 11, 15, 13, 21, 38, 52],\n",
       "      dtype=int64)"
      ]
     },
     "execution_count": 86,
     "metadata": {},
     "output_type": "execute_result"
    }
   ],
   "source": [
    "df_mn['vb_occupation'].unique()"
   ]
  },
  {
   "cell_type": "code",
   "execution_count": null,
   "metadata": {},
   "outputs": [],
   "source": [
    "df_mn.groupby('tb_boah_biz_sic_cd')['tb_boah_biz_sic_cd'].count()\n",
    "#834 different codes"
   ]
  },
  {
   "cell_type": "code",
   "execution_count": null,
   "metadata": {},
   "outputs": [],
   "source": [
    "df_mn['tb_boah_biz_sic_cd'].astype(int, errors = 'ignore').astype(str).split('.')"
   ]
  },
  {
   "cell_type": "code",
   "execution_count": null,
   "metadata": {},
   "outputs": [],
   "source": [
    "df_mn.groupby('tb_boah_biz_sic_2_cd')['tb_boah_biz_sic_2_cd'].count()\n",
    "#89 different codes"
   ]
  },
  {
   "cell_type": "code",
   "execution_count": null,
   "metadata": {},
   "outputs": [],
   "source": [
    "# load in file with SIC codes\n",
    "sic_codes=pd.read_excel('SIC_Codes_5.31.2021.xlsx')\n",
    "sic_codes.columns"
   ]
  },
  {
   "cell_type": "markdown",
   "metadata": {},
   "source": [
    "#make a dictionary (First attempt)\n",
    "sic_dict=sic_codes.to_dict('records')\n",
    "sic_dict"
   ]
  },
  {
   "cell_type": "code",
   "execution_count": null,
   "metadata": {},
   "outputs": [],
   "source": [
    "# antoher type of dictionary that may be easier to manuver\n",
    "sic_dict2=sic_codes.set_index('SIC Code').to_dict()['Office']\n",
    "sic_dict2"
   ]
  },
  {
   "cell_type": "code",
   "execution_count": null,
   "metadata": {},
   "outputs": [],
   "source": [
    "#in the dataframe SIC Code is #.0 so the column needs to be clean\n",
    "list_SIC_occ=[]\n",
    "for occ_val in df_mn['tb_boah_biz_sic_cd']:\n",
    "    clean_val=str(occ_val).split('.')[0]\n",
    "    list_SIC_occ.append(clean_val)\n",
    "    \n",
    "# add column with values\n",
    "\n",
    "df_mn['SIC_code']=df_mn['tb_boah_biz_sic_cd'].map(sic_dict2)\n",
    "df_mn.head()\n",
    "df_mn['SIC_code'].unique()"
   ]
  },
  {
   "cell_type": "code",
   "execution_count": 70,
   "metadata": {},
   "outputs": [
    {
     "name": "stderr",
     "output_type": "stream",
     "text": [
      "C:\\Users\\godin033\\Anaconda3\\lib\\site-packages\\pandas\\core\\frame.py:3990: SettingWithCopyWarning: \n",
      "A value is trying to be set on a copy of a slice from a DataFrame\n",
      "\n",
      "See the caveats in the documentation: https://pandas.pydata.org/pandas-docs/stable/user_guide/indexing.html#returning-a-view-versus-a-copy\n",
      "  return super().drop(\n"
     ]
    },
    {
     "data": {
      "text/html": [
       "<div>\n",
       "<style scoped>\n",
       "    .dataframe tbody tr th:only-of-type {\n",
       "        vertical-align: middle;\n",
       "    }\n",
       "\n",
       "    .dataframe tbody tr th {\n",
       "        vertical-align: top;\n",
       "    }\n",
       "\n",
       "    .dataframe thead th {\n",
       "        text-align: right;\n",
       "    }\n",
       "</style>\n",
       "<table border=\"1\" class=\"dataframe\">\n",
       "  <thead>\n",
       "    <tr style=\"text-align: right;\">\n",
       "      <th>1</th>\n",
       "      <th>Field num</th>\n",
       "      <th>Field</th>\n",
       "      <th>Field Name</th>\n",
       "      <th>Field Description</th>\n",
       "      <th>Component</th>\n",
       "      <th>Component Description</th>\n",
       "      <th>Data Source</th>\n",
       "      <th>Field Value</th>\n",
       "      <th>Value Description</th>\n",
       "      <th>Distinct Count</th>\n",
       "    </tr>\n",
       "  </thead>\n",
       "  <tbody>\n",
       "    <tr>\n",
       "      <th>2292</th>\n",
       "      <td>334</td>\n",
       "      <td>vb.occupation</td>\n",
       "      <td>IntelliBase Occupation Code</td>\n",
       "      <td>Indicates the occupation type of the individua...</td>\n",
       "      <td>VoterBase</td>\n",
       "      <td>TargetSmart's national voter file</td>\n",
       "      <td>Commercial</td>\n",
       "      <td>NaN</td>\n",
       "      <td>NaN</td>\n",
       "      <td>206981658</td>\n",
       "    </tr>\n",
       "    <tr>\n",
       "      <th>2293</th>\n",
       "      <td>334</td>\n",
       "      <td>vb.occupation</td>\n",
       "      <td>IntelliBase Occupation Code</td>\n",
       "      <td>Indicates the occupation type of the individua...</td>\n",
       "      <td>VoterBase</td>\n",
       "      <td>TargetSmart's national voter file</td>\n",
       "      <td>Commercial</td>\n",
       "      <td>2</td>\n",
       "      <td>Professional/Technical</td>\n",
       "      <td>10119959</td>\n",
       "    </tr>\n",
       "    <tr>\n",
       "      <th>2294</th>\n",
       "      <td>334</td>\n",
       "      <td>vb.occupation</td>\n",
       "      <td>IntelliBase Occupation Code</td>\n",
       "      <td>Indicates the occupation type of the individua...</td>\n",
       "      <td>VoterBase</td>\n",
       "      <td>TargetSmart's national voter file</td>\n",
       "      <td>Commercial</td>\n",
       "      <td>3</td>\n",
       "      <td>Upper Management/Executive</td>\n",
       "      <td>2802423</td>\n",
       "    </tr>\n",
       "    <tr>\n",
       "      <th>2295</th>\n",
       "      <td>334</td>\n",
       "      <td>vb.occupation</td>\n",
       "      <td>IntelliBase Occupation Code</td>\n",
       "      <td>Indicates the occupation type of the individua...</td>\n",
       "      <td>VoterBase</td>\n",
       "      <td>TargetSmart's national voter file</td>\n",
       "      <td>Commercial</td>\n",
       "      <td>5</td>\n",
       "      <td>Sales/Service</td>\n",
       "      <td>3254648</td>\n",
       "    </tr>\n",
       "    <tr>\n",
       "      <th>2296</th>\n",
       "      <td>334</td>\n",
       "      <td>vb.occupation</td>\n",
       "      <td>IntelliBase Occupation Code</td>\n",
       "      <td>Indicates the occupation type of the individua...</td>\n",
       "      <td>VoterBase</td>\n",
       "      <td>TargetSmart's national voter file</td>\n",
       "      <td>Commercial</td>\n",
       "      <td>6</td>\n",
       "      <td>Office/Clerical</td>\n",
       "      <td>5622736</td>\n",
       "    </tr>\n",
       "  </tbody>\n",
       "</table>\n",
       "</div>"
      ],
      "text/plain": [
       "1    Field num          Field                   Field Name  \\\n",
       "2292       334  vb.occupation  IntelliBase Occupation Code   \n",
       "2293       334  vb.occupation  IntelliBase Occupation Code   \n",
       "2294       334  vb.occupation  IntelliBase Occupation Code   \n",
       "2295       334  vb.occupation  IntelliBase Occupation Code   \n",
       "2296       334  vb.occupation  IntelliBase Occupation Code   \n",
       "\n",
       "1                                     Field Description  Component  \\\n",
       "2292  Indicates the occupation type of the individua...  VoterBase   \n",
       "2293  Indicates the occupation type of the individua...  VoterBase   \n",
       "2294  Indicates the occupation type of the individua...  VoterBase   \n",
       "2295  Indicates the occupation type of the individua...  VoterBase   \n",
       "2296  Indicates the occupation type of the individua...  VoterBase   \n",
       "\n",
       "1                 Component Description Data Source Field Value  \\\n",
       "2292  TargetSmart's national voter file  Commercial         NaN   \n",
       "2293  TargetSmart's national voter file  Commercial           2   \n",
       "2294  TargetSmart's national voter file  Commercial           3   \n",
       "2295  TargetSmart's national voter file  Commercial           5   \n",
       "2296  TargetSmart's national voter file  Commercial           6   \n",
       "\n",
       "1              Value Description Distinct Count  \n",
       "2292                         NaN      206981658  \n",
       "2293      Professional/Technical       10119959  \n",
       "2294  Upper Management/Executive        2802423  \n",
       "2295               Sales/Service        3254648  \n",
       "2296             Office/Clerical        5622736  "
      ]
     },
     "execution_count": 70,
     "metadata": {},
     "output_type": "execute_result"
    }
   ],
   "source": [
    "#dictionary for occupation\n",
    "occ_codes=target_smart['Field']=='vb.occupation'\n",
    "occ_df=target_smart[occ_codes]\n",
    "occ_df.drop(occ_df.index[[0]],inplace=True)\n",
    "occ_df.head()"
   ]
  },
  {
   "cell_type": "code",
   "execution_count": 71,
   "metadata": {},
   "outputs": [],
   "source": [
    "occ_dict=occ_df.set_index('Field Value').to_dict()['Value Description']"
   ]
  },
  {
   "cell_type": "code",
   "execution_count": 87,
   "metadata": {},
   "outputs": [
    {
     "data": {
      "text/plain": [
       "array(['Office/Clerical', 'Professional/Technical',\n",
       "       'Medical/Health Services', 'Financial Services',\n",
       "       'Administrative/Management', 'Skilled Trade',\n",
       "       'Farming/Agriculture', 'Upper Management/Executive',\n",
       "       'Sales/Service', 'Military', 'Legal Services', 'Religious',\n",
       "       'Self Employed', 'Teacher/Educator'], dtype=object)"
      ]
     },
     "execution_count": 87,
     "metadata": {},
     "output_type": "execute_result"
    }
   ],
   "source": [
    "df['Occupation']=df['vb_occupation'].map(occ_dict)\n",
    "df['Occupation'].unique()\n",
    "#'Professional/Technical', 'Medical/Health Services',\n",
    "#        'Sales/Service', 'Administrative/Management', 'Financial Services',\n",
    "#        'Skilled Trade', 'Upper Management/Executive', 'Office/Clerical',\n",
    "#        'Self Employed', 'Farming/Agriculture', 'Military',\n",
    "#        'Teacher/Educator', 'Legal Services', 'Religious'"
   ]
  },
  {
   "cell_type": "markdown",
   "metadata": {},
   "source": [
    "Second Goal: Create a column with a binary code for “tech_hub_zip9” that identifies all zip codes that are associated with the current tech hubs: New York, Boston, Seattle, San Francisco, and San Jose"
   ]
  },
  {
   "cell_type": "code",
   "execution_count": null,
   "metadata": {},
   "outputs": [],
   "source": [
    "tech_zip=pd.read_excel('Tech_ZipCodes.xlsx')\n",
    "tech_zipl=tech_zip['Zip Code'].to_list()\n",
    "\n",
    "tech_zipl\n"
   ]
  },
  {
   "cell_type": "code",
   "execution_count": null,
   "metadata": {},
   "outputs": [],
   "source": [
    "zip_bin=[]\n",
    "tech_ziplist=[55428,55975] # this is a test list, but once we finalize a zip code list we can\n",
    "for zip_code in df_mn['vb_tsmart_zip']:\n",
    "    if zip_code in tech_ziplist:\n",
    "        zip_code=1\n",
    "        zip_bin.append(zip_code)\n",
    "    else:\n",
    "        zip_code=0\n",
    "        zip_bin.append(zip_code)\n",
    "        \n",
    "zip_bin"
   ]
  },
  {
   "cell_type": "code",
   "execution_count": null,
   "metadata": {},
   "outputs": [],
   "source": [
    "#create new column with this\n",
    "df_mn['tech_hub_zip9']=zip_bin"
   ]
  },
  {
   "cell_type": "markdown",
   "metadata": {},
   "source": [
    "Third Goal: Review coding for education, gender, and race to make sure ACS coding maps to coding in Targetsmart data."
   ]
  },
  {
   "cell_type": "code",
   "execution_count": 15,
   "metadata": {},
   "outputs": [],
   "source": [
    "#uncode the education;gender;race columns with targetsmart data \n",
    "#1. load targetsmart data\n",
    "target_smart=pd.read_excel('targetsmart_data_dictionary_q2_2021.xlsx',sheet_name='Copy of Raw TargetSmart Field V')"
   ]
  },
  {
   "cell_type": "code",
   "execution_count": null,
   "metadata": {},
   "outputs": [],
   "source": [
    "df_mn.columns"
   ]
  },
  {
   "cell_type": "code",
   "execution_count": 16,
   "metadata": {},
   "outputs": [
    {
     "data": {
      "text/html": [
       "<div>\n",
       "<style scoped>\n",
       "    .dataframe tbody tr th:only-of-type {\n",
       "        vertical-align: middle;\n",
       "    }\n",
       "\n",
       "    .dataframe tbody tr th {\n",
       "        vertical-align: top;\n",
       "    }\n",
       "\n",
       "    .dataframe thead th {\n",
       "        text-align: right;\n",
       "    }\n",
       "</style>\n",
       "<table border=\"1\" class=\"dataframe\">\n",
       "  <thead>\n",
       "    <tr style=\"text-align: right;\">\n",
       "      <th>1</th>\n",
       "      <th>Field num</th>\n",
       "      <th>Field</th>\n",
       "      <th>Field Name</th>\n",
       "      <th>Field Description</th>\n",
       "      <th>Component</th>\n",
       "      <th>Component Description</th>\n",
       "      <th>Data Source</th>\n",
       "      <th>Field Value</th>\n",
       "      <th>Value Description</th>\n",
       "      <th>Distinct Count</th>\n",
       "    </tr>\n",
       "  </thead>\n",
       "  <tbody>\n",
       "    <tr>\n",
       "      <th>2</th>\n",
       "      <td>2</td>\n",
       "      <td>vb.smartid</td>\n",
       "      <td>TargetSmart ID</td>\n",
       "      <td>Unique national identifier (ID). This field is...</td>\n",
       "      <td>VoterBase</td>\n",
       "      <td>TargetSmart's national voter file</td>\n",
       "      <td>TargetSmart</td>\n",
       "      <td>NaN</td>\n",
       "      <td>SmartId not available</td>\n",
       "      <td>262293369</td>\n",
       "    </tr>\n",
       "    <tr>\n",
       "      <th>3</th>\n",
       "      <td>29</td>\n",
       "      <td>vb.vf_voterfile_update_date</td>\n",
       "      <td>Voter File Update Date</td>\n",
       "      <td>Date file is received from the state. Most rec...</td>\n",
       "      <td>VoterBase</td>\n",
       "      <td>TargetSmart's national voter file</td>\n",
       "      <td>State Voter File</td>\n",
       "      <td>20200727</td>\n",
       "      <td>NaN</td>\n",
       "      <td>2467135</td>\n",
       "    </tr>\n",
       "    <tr>\n",
       "      <th>4</th>\n",
       "      <td>29</td>\n",
       "      <td>vb.vf_voterfile_update_date</td>\n",
       "      <td>Voter File Update Date</td>\n",
       "      <td>Date file is received from the state. Most rec...</td>\n",
       "      <td>VoterBase</td>\n",
       "      <td>TargetSmart's national voter file</td>\n",
       "      <td>State Voter File</td>\n",
       "      <td>20200916</td>\n",
       "      <td>NaN</td>\n",
       "      <td>579235</td>\n",
       "    </tr>\n",
       "    <tr>\n",
       "      <th>5</th>\n",
       "      <td>29</td>\n",
       "      <td>vb.vf_voterfile_update_date</td>\n",
       "      <td>Voter File Update Date</td>\n",
       "      <td>Date file is received from the state. Most rec...</td>\n",
       "      <td>VoterBase</td>\n",
       "      <td>TargetSmart's national voter file</td>\n",
       "      <td>State Voter File</td>\n",
       "      <td>20200930</td>\n",
       "      <td>NaN</td>\n",
       "      <td>974484</td>\n",
       "    </tr>\n",
       "    <tr>\n",
       "      <th>6</th>\n",
       "      <td>29</td>\n",
       "      <td>vb.vf_voterfile_update_date</td>\n",
       "      <td>Voter File Update Date</td>\n",
       "      <td>Date file is received from the state. Most rec...</td>\n",
       "      <td>VoterBase</td>\n",
       "      <td>TargetSmart's national voter file</td>\n",
       "      <td>State Voter File</td>\n",
       "      <td>20201008</td>\n",
       "      <td>NaN</td>\n",
       "      <td>4463678</td>\n",
       "    </tr>\n",
       "  </tbody>\n",
       "</table>\n",
       "</div>"
      ],
      "text/plain": [
       "1 Field num                        Field              Field Name  \\\n",
       "2         2                   vb.smartid          TargetSmart ID   \n",
       "3        29  vb.vf_voterfile_update_date  Voter File Update Date   \n",
       "4        29  vb.vf_voterfile_update_date  Voter File Update Date   \n",
       "5        29  vb.vf_voterfile_update_date  Voter File Update Date   \n",
       "6        29  vb.vf_voterfile_update_date  Voter File Update Date   \n",
       "\n",
       "1                                  Field Description  Component  \\\n",
       "2  Unique national identifier (ID). This field is...  VoterBase   \n",
       "3  Date file is received from the state. Most rec...  VoterBase   \n",
       "4  Date file is received from the state. Most rec...  VoterBase   \n",
       "5  Date file is received from the state. Most rec...  VoterBase   \n",
       "6  Date file is received from the state. Most rec...  VoterBase   \n",
       "\n",
       "1              Component Description       Data Source Field Value  \\\n",
       "2  TargetSmart's national voter file       TargetSmart         NaN   \n",
       "3  TargetSmart's national voter file  State Voter File    20200727   \n",
       "4  TargetSmart's national voter file  State Voter File    20200916   \n",
       "5  TargetSmart's national voter file  State Voter File    20200930   \n",
       "6  TargetSmart's national voter file  State Voter File    20201008   \n",
       "\n",
       "1      Value Description Distinct Count  \n",
       "2  SmartId not available      262293369  \n",
       "3                    NaN        2467135  \n",
       "4                    NaN         579235  \n",
       "5                    NaN         974484  \n",
       "6                    NaN        4463678  "
      ]
     },
     "execution_count": 16,
     "metadata": {},
     "output_type": "execute_result"
    }
   ],
   "source": [
    "df_mn.columns\n",
    "target_smart.columns=target_smart.iloc[1]\n",
    "target_smart.drop(target_smart.index[[0,1]],inplace=True)\n",
    "target_smart.head()"
   ]
  },
  {
   "cell_type": "code",
   "execution_count": null,
   "metadata": {},
   "outputs": [],
   "source": [
    "#2 dictionary for race\n",
    "race_codes=target_smart['Field']=='vb.voterbase_race'\n",
    "race_df=target_smart[race_codes]\n",
    "race_df.head()"
   ]
  },
  {
   "cell_type": "code",
   "execution_count": null,
   "metadata": {},
   "outputs": [],
   "source": [
    "#3 dictionary for gender\n",
    "gender_codes=target_smart['Field']=='vb.voterbase_gender'\n",
    "gender_df=target_smart[gender_codes]\n",
    "gender_df.head()"
   ]
  },
  {
   "cell_type": "code",
   "execution_count": 92,
   "metadata": {},
   "outputs": [
    {
     "name": "stderr",
     "output_type": "stream",
     "text": [
      "C:\\Users\\godin033\\Anaconda3\\lib\\site-packages\\pandas\\core\\frame.py:3990: SettingWithCopyWarning: \n",
      "A value is trying to be set on a copy of a slice from a DataFrame\n",
      "\n",
      "See the caveats in the documentation: https://pandas.pydata.org/pandas-docs/stable/user_guide/indexing.html#returning-a-view-versus-a-copy\n",
      "  return super().drop(\n"
     ]
    },
    {
     "data": {
      "text/html": [
       "<div>\n",
       "<style scoped>\n",
       "    .dataframe tbody tr th:only-of-type {\n",
       "        vertical-align: middle;\n",
       "    }\n",
       "\n",
       "    .dataframe tbody tr th {\n",
       "        vertical-align: top;\n",
       "    }\n",
       "\n",
       "    .dataframe thead th {\n",
       "        text-align: right;\n",
       "    }\n",
       "</style>\n",
       "<table border=\"1\" class=\"dataframe\">\n",
       "  <thead>\n",
       "    <tr style=\"text-align: right;\">\n",
       "      <th>1</th>\n",
       "      <th>Field num</th>\n",
       "      <th>Field</th>\n",
       "      <th>Field Name</th>\n",
       "      <th>Field Description</th>\n",
       "      <th>Component</th>\n",
       "      <th>Component Description</th>\n",
       "      <th>Data Source</th>\n",
       "      <th>Field Value</th>\n",
       "      <th>Value Description</th>\n",
       "      <th>Distinct Count</th>\n",
       "    </tr>\n",
       "  </thead>\n",
       "  <tbody>\n",
       "    <tr>\n",
       "      <th>2284</th>\n",
       "      <td>333</td>\n",
       "      <td>vb.education</td>\n",
       "      <td>IntelliBase Education Code</td>\n",
       "      <td>Indicates the highest level of education compl...</td>\n",
       "      <td>VoterBase</td>\n",
       "      <td>TargetSmart's national voter file</td>\n",
       "      <td>Commercial</td>\n",
       "      <td>NaN</td>\n",
       "      <td>NaN</td>\n",
       "      <td>65636180</td>\n",
       "    </tr>\n",
       "    <tr>\n",
       "      <th>2285</th>\n",
       "      <td>333</td>\n",
       "      <td>vb.education</td>\n",
       "      <td>IntelliBase Education Code</td>\n",
       "      <td>Indicates the highest level of education compl...</td>\n",
       "      <td>VoterBase</td>\n",
       "      <td>TargetSmart's national voter file</td>\n",
       "      <td>Commercial</td>\n",
       "      <td>0</td>\n",
       "      <td>Unknown</td>\n",
       "      <td>1314181</td>\n",
       "    </tr>\n",
       "    <tr>\n",
       "      <th>2286</th>\n",
       "      <td>333</td>\n",
       "      <td>vb.education</td>\n",
       "      <td>IntelliBase Education Code</td>\n",
       "      <td>Indicates the highest level of education compl...</td>\n",
       "      <td>VoterBase</td>\n",
       "      <td>TargetSmart's national voter file</td>\n",
       "      <td>Commercial</td>\n",
       "      <td>1</td>\n",
       "      <td>High School</td>\n",
       "      <td>62379309</td>\n",
       "    </tr>\n",
       "    <tr>\n",
       "      <th>2287</th>\n",
       "      <td>333</td>\n",
       "      <td>vb.education</td>\n",
       "      <td>IntelliBase Education Code</td>\n",
       "      <td>Indicates the highest level of education compl...</td>\n",
       "      <td>VoterBase</td>\n",
       "      <td>TargetSmart's national voter file</td>\n",
       "      <td>Commercial</td>\n",
       "      <td>2</td>\n",
       "      <td>Some College</td>\n",
       "      <td>43636302</td>\n",
       "    </tr>\n",
       "    <tr>\n",
       "      <th>2288</th>\n",
       "      <td>333</td>\n",
       "      <td>vb.education</td>\n",
       "      <td>IntelliBase Education Code</td>\n",
       "      <td>Indicates the highest level of education compl...</td>\n",
       "      <td>VoterBase</td>\n",
       "      <td>TargetSmart's national voter file</td>\n",
       "      <td>Commercial</td>\n",
       "      <td>3</td>\n",
       "      <td>College Graduate</td>\n",
       "      <td>49249282</td>\n",
       "    </tr>\n",
       "  </tbody>\n",
       "</table>\n",
       "</div>"
      ],
      "text/plain": [
       "1    Field num         Field                  Field Name  \\\n",
       "2284       333  vb.education  IntelliBase Education Code   \n",
       "2285       333  vb.education  IntelliBase Education Code   \n",
       "2286       333  vb.education  IntelliBase Education Code   \n",
       "2287       333  vb.education  IntelliBase Education Code   \n",
       "2288       333  vb.education  IntelliBase Education Code   \n",
       "\n",
       "1                                     Field Description  Component  \\\n",
       "2284  Indicates the highest level of education compl...  VoterBase   \n",
       "2285  Indicates the highest level of education compl...  VoterBase   \n",
       "2286  Indicates the highest level of education compl...  VoterBase   \n",
       "2287  Indicates the highest level of education compl...  VoterBase   \n",
       "2288  Indicates the highest level of education compl...  VoterBase   \n",
       "\n",
       "1                 Component Description Data Source Field Value  \\\n",
       "2284  TargetSmart's national voter file  Commercial         NaN   \n",
       "2285  TargetSmart's national voter file  Commercial           0   \n",
       "2286  TargetSmart's national voter file  Commercial           1   \n",
       "2287  TargetSmart's national voter file  Commercial           2   \n",
       "2288  TargetSmart's national voter file  Commercial           3   \n",
       "\n",
       "1    Value Description Distinct Count  \n",
       "2284               NaN       65636180  \n",
       "2285           Unknown        1314181  \n",
       "2286       High School       62379309  \n",
       "2287      Some College       43636302  \n",
       "2288  College Graduate       49249282  "
      ]
     },
     "execution_count": 92,
     "metadata": {},
     "output_type": "execute_result"
    }
   ],
   "source": [
    "#4 dictionary for education\n",
    "edu_codes=target_smart['Field']=='vb.education'\n",
    "edu_df=target_smart[edu_codes]\n",
    "edu_df.drop(edu_df.index[[0]],inplace=True)\n",
    "edu_df.head()"
   ]
  },
  {
   "cell_type": "code",
   "execution_count": 19,
   "metadata": {},
   "outputs": [
    {
     "data": {
      "text/plain": [
       "{nan: nan,\n",
       " 0.0: 'Unknown',\n",
       " 1.0: 'High School',\n",
       " 2.0: 'Some College',\n",
       " 3.0: 'College Graduate',\n",
       " 4.0: 'Post Graduate',\n",
       " 6.0: 'Less than High School Diploma'}"
      ]
     },
     "execution_count": 19,
     "metadata": {},
     "output_type": "execute_result"
    }
   ],
   "source": [
    "#edu dictionary\n",
    "edu_dict=edu_df.set_index('Field Value').to_dict()['Value Description']\n",
    "edu_dict"
   ]
  },
  {
   "cell_type": "code",
   "execution_count": 93,
   "metadata": {},
   "outputs": [
    {
     "data": {
      "text/html": [
       "<div>\n",
       "<style scoped>\n",
       "    .dataframe tbody tr th:only-of-type {\n",
       "        vertical-align: middle;\n",
       "    }\n",
       "\n",
       "    .dataframe tbody tr th {\n",
       "        vertical-align: top;\n",
       "    }\n",
       "\n",
       "    .dataframe thead th {\n",
       "        text-align: right;\n",
       "    }\n",
       "</style>\n",
       "<table border=\"1\" class=\"dataframe\">\n",
       "  <thead>\n",
       "    <tr style=\"text-align: right;\">\n",
       "      <th></th>\n",
       "      <th>vb_voterbase_id</th>\n",
       "      <th>vb_voterbase_household_id</th>\n",
       "      <th>vb_tsmart_exact_address_track</th>\n",
       "      <th>vb_tsmart_latitude</th>\n",
       "      <th>vb_tsmart_longitude</th>\n",
       "      <th>vb_tsmart_zip</th>\n",
       "      <th>vb_tsmart_state</th>\n",
       "      <th>vb_tsmart_level</th>\n",
       "      <th>vb_tsmart_county_name</th>\n",
       "      <th>vb_tsmart_county_code</th>\n",
       "      <th>...</th>\n",
       "      <th>tb_boah_flg</th>\n",
       "      <th>tb_boah_biz_size_cd</th>\n",
       "      <th>tb_boah_biz_source_cd</th>\n",
       "      <th>tb_boah_biz_rank_cd</th>\n",
       "      <th>tb_boah_biz_func_cd</th>\n",
       "      <th>tb_boah_biz_revenue_cd</th>\n",
       "      <th>tb_boah_biz_sic_cd</th>\n",
       "      <th>tb_boah_biz_sic_2_cd</th>\n",
       "      <th>Occupation</th>\n",
       "      <th>Education</th>\n",
       "    </tr>\n",
       "  </thead>\n",
       "  <tbody>\n",
       "    <tr>\n",
       "      <th>0</th>\n",
       "      <td>AK-000000000020</td>\n",
       "      <td>Y000000186098323KYLE</td>\n",
       "      <td>Y000000186098323</td>\n",
       "      <td>61.095810</td>\n",
       "      <td>-149.828888</td>\n",
       "      <td>99516</td>\n",
       "      <td>AK</td>\n",
       "      <td>Street</td>\n",
       "      <td>MUNICIPALITY OF ANCHORAGE</td>\n",
       "      <td>20.0</td>\n",
       "      <td>...</td>\n",
       "      <td>NaN</td>\n",
       "      <td>NaN</td>\n",
       "      <td>NaN</td>\n",
       "      <td>NaN</td>\n",
       "      <td>NaN</td>\n",
       "      <td>NaN</td>\n",
       "      <td>NaN</td>\n",
       "      <td>NaN</td>\n",
       "      <td>Office/Clerical</td>\n",
       "      <td>High School</td>\n",
       "    </tr>\n",
       "    <tr>\n",
       "      <th>1</th>\n",
       "      <td>AK-000000000250</td>\n",
       "      <td>Y000000182911889OSWALD</td>\n",
       "      <td>Y000000182911889</td>\n",
       "      <td>61.184738</td>\n",
       "      <td>-149.751389</td>\n",
       "      <td>99504</td>\n",
       "      <td>AK</td>\n",
       "      <td>Street</td>\n",
       "      <td>MUNICIPALITY OF ANCHORAGE</td>\n",
       "      <td>20.0</td>\n",
       "      <td>...</td>\n",
       "      <td>1.0</td>\n",
       "      <td>B</td>\n",
       "      <td>E</td>\n",
       "      <td>1.0</td>\n",
       "      <td>D</td>\n",
       "      <td>A</td>\n",
       "      <td>8748.0</td>\n",
       "      <td>87.0</td>\n",
       "      <td>Professional/Technical</td>\n",
       "      <td>Post Graduate</td>\n",
       "    </tr>\n",
       "    <tr>\n",
       "      <th>2</th>\n",
       "      <td>AK-000000000509</td>\n",
       "      <td>Y000000235819126HOLMES</td>\n",
       "      <td>Y000000235819126</td>\n",
       "      <td>48.383949</td>\n",
       "      <td>-115.551353</td>\n",
       "      <td>59923</td>\n",
       "      <td>MT</td>\n",
       "      <td>Street</td>\n",
       "      <td>LINCOLN</td>\n",
       "      <td>53.0</td>\n",
       "      <td>...</td>\n",
       "      <td>NaN</td>\n",
       "      <td>NaN</td>\n",
       "      <td>NaN</td>\n",
       "      <td>NaN</td>\n",
       "      <td>NaN</td>\n",
       "      <td>NaN</td>\n",
       "      <td>NaN</td>\n",
       "      <td>NaN</td>\n",
       "      <td>Medical/Health Services</td>\n",
       "      <td>College Graduate</td>\n",
       "    </tr>\n",
       "    <tr>\n",
       "      <th>3</th>\n",
       "      <td>AK-000000000711</td>\n",
       "      <td>Y000000140159129SCOTT</td>\n",
       "      <td>Y000000140159129</td>\n",
       "      <td>61.319233</td>\n",
       "      <td>-149.532120</td>\n",
       "      <td>99577</td>\n",
       "      <td>AK</td>\n",
       "      <td>Street</td>\n",
       "      <td>MUNICIPALITY OF ANCHORAGE</td>\n",
       "      <td>20.0</td>\n",
       "      <td>...</td>\n",
       "      <td>1.0</td>\n",
       "      <td>B</td>\n",
       "      <td>E</td>\n",
       "      <td>NaN</td>\n",
       "      <td>NaN</td>\n",
       "      <td>A</td>\n",
       "      <td>1.0</td>\n",
       "      <td>0.0</td>\n",
       "      <td>Medical/Health Services</td>\n",
       "      <td>Post Graduate</td>\n",
       "    </tr>\n",
       "    <tr>\n",
       "      <th>4</th>\n",
       "      <td>AK-000000001144</td>\n",
       "      <td>Y000000084251981LARSEN</td>\n",
       "      <td>Y000000084251981</td>\n",
       "      <td>61.423569</td>\n",
       "      <td>-149.480682</td>\n",
       "      <td>99567</td>\n",
       "      <td>AK</td>\n",
       "      <td>Street</td>\n",
       "      <td>MUNICIPALITY OF ANCHORAGE</td>\n",
       "      <td>20.0</td>\n",
       "      <td>...</td>\n",
       "      <td>NaN</td>\n",
       "      <td>NaN</td>\n",
       "      <td>NaN</td>\n",
       "      <td>NaN</td>\n",
       "      <td>NaN</td>\n",
       "      <td>NaN</td>\n",
       "      <td>NaN</td>\n",
       "      <td>NaN</td>\n",
       "      <td>Professional/Technical</td>\n",
       "      <td>High School</td>\n",
       "    </tr>\n",
       "  </tbody>\n",
       "</table>\n",
       "<p>5 rows × 43 columns</p>\n",
       "</div>"
      ],
      "text/plain": [
       "   vb_voterbase_id vb_voterbase_household_id vb_tsmart_exact_address_track  \\\n",
       "0  AK-000000000020      Y000000186098323KYLE              Y000000186098323   \n",
       "1  AK-000000000250    Y000000182911889OSWALD              Y000000182911889   \n",
       "2  AK-000000000509    Y000000235819126HOLMES              Y000000235819126   \n",
       "3  AK-000000000711     Y000000140159129SCOTT              Y000000140159129   \n",
       "4  AK-000000001144    Y000000084251981LARSEN              Y000000084251981   \n",
       "\n",
       "   vb_tsmart_latitude  vb_tsmart_longitude  vb_tsmart_zip vb_tsmart_state  \\\n",
       "0           61.095810          -149.828888          99516              AK   \n",
       "1           61.184738          -149.751389          99504              AK   \n",
       "2           48.383949          -115.551353          59923              MT   \n",
       "3           61.319233          -149.532120          99577              AK   \n",
       "4           61.423569          -149.480682          99567              AK   \n",
       "\n",
       "  vb_tsmart_level      vb_tsmart_county_name  vb_tsmart_county_code  ...  \\\n",
       "0          Street  MUNICIPALITY OF ANCHORAGE                   20.0  ...   \n",
       "1          Street  MUNICIPALITY OF ANCHORAGE                   20.0  ...   \n",
       "2          Street                    LINCOLN                   53.0  ...   \n",
       "3          Street  MUNICIPALITY OF ANCHORAGE                   20.0  ...   \n",
       "4          Street  MUNICIPALITY OF ANCHORAGE                   20.0  ...   \n",
       "\n",
       "  tb_boah_flg tb_boah_biz_size_cd tb_boah_biz_source_cd tb_boah_biz_rank_cd  \\\n",
       "0         NaN                 NaN                   NaN                 NaN   \n",
       "1         1.0                   B                     E                 1.0   \n",
       "2         NaN                 NaN                   NaN                 NaN   \n",
       "3         1.0                   B                     E                 NaN   \n",
       "4         NaN                 NaN                   NaN                 NaN   \n",
       "\n",
       "   tb_boah_biz_func_cd  tb_boah_biz_revenue_cd  tb_boah_biz_sic_cd  \\\n",
       "0                  NaN                     NaN                 NaN   \n",
       "1                    D                       A              8748.0   \n",
       "2                  NaN                     NaN                 NaN   \n",
       "3                  NaN                       A                 1.0   \n",
       "4                  NaN                     NaN                 NaN   \n",
       "\n",
       "   tb_boah_biz_sic_2_cd               Occupation         Education  \n",
       "0                   NaN          Office/Clerical       High School  \n",
       "1                  87.0   Professional/Technical     Post Graduate  \n",
       "2                   NaN  Medical/Health Services  College Graduate  \n",
       "3                   0.0  Medical/Health Services     Post Graduate  \n",
       "4                   NaN   Professional/Technical       High School  \n",
       "\n",
       "[5 rows x 43 columns]"
      ]
     },
     "execution_count": 93,
     "metadata": {},
     "output_type": "execute_result"
    }
   ],
   "source": [
    "#created a categorical column for education\n",
    "df['Education']=df['vb_education'].map(edu_dict)\n",
    "df.head()"
   ]
  },
  {
   "cell_type": "markdown",
   "metadata": {},
   "source": [
    "END of First Data Clean Up 6.6.2021"
   ]
  },
  {
   "cell_type": "markdown",
   "metadata": {},
   "source": [
    "**Only use data from POC talent**"
   ]
  },
  {
   "cell_type": "code",
   "execution_count": null,
   "metadata": {},
   "outputs": [],
   "source": [
    "df_mn.groupby('vb_voterbase_race')['vb_voterbase_race'].count()"
   ]
  },
  {
   "cell_type": "code",
   "execution_count": 104,
   "metadata": {},
   "outputs": [
    {
     "data": {
      "text/plain": [
       "(375654, 43)"
      ]
     },
     "execution_count": 104,
     "metadata": {},
     "output_type": "execute_result"
    }
   ],
   "source": [
    "df_diverse=df.loc[~((df['vb_voterbase_race']=='Caucasian') |(df['vb_voterbase_race']=='Uncoded')|(df['vb_voterbase_race']=='Other')) & (df['Occupation']=='Professional/Technical') ]\n",
    "df_diverse.shape"
   ]
  },
  {
   "cell_type": "markdown",
   "metadata": {},
   "source": [
    "**Sample Heat Map for Minnesota**"
   ]
  },
  {
   "cell_type": "code",
   "execution_count": 37,
   "metadata": {},
   "outputs": [
    {
     "name": "stdout",
     "output_type": "stream",
     "text": [
      "Requirement already satisfied: folium in c:\\users\\godin033\\anaconda3\\lib\\site-packages (0.12.1)\n",
      "Requirement already satisfied: numpy in c:\\users\\godin033\\anaconda3\\lib\\site-packages (from folium) (1.18.5)\n",
      "Requirement already satisfied: branca>=0.3.0 in c:\\users\\godin033\\anaconda3\\lib\\site-packages (from folium) (0.4.2)\n",
      "Requirement already satisfied: requests in c:\\users\\godin033\\anaconda3\\lib\\site-packages (from folium) (2.24.0)\n",
      "Requirement already satisfied: jinja2>=2.9 in c:\\users\\godin033\\anaconda3\\lib\\site-packages (from folium) (2.11.2)\n",
      "Requirement already satisfied: certifi>=2017.4.17 in c:\\users\\godin033\\anaconda3\\lib\\site-packages (from requests->folium) (2020.6.20)\n",
      "Requirement already satisfied: chardet<4,>=3.0.2 in c:\\users\\godin033\\anaconda3\\lib\\site-packages (from requests->folium) (3.0.4)\n",
      "Requirement already satisfied: idna<3,>=2.5 in c:\\users\\godin033\\anaconda3\\lib\\site-packages (from requests->folium) (2.10)\n",
      "Requirement already satisfied: urllib3!=1.25.0,!=1.25.1,<1.26,>=1.21.1 in c:\\users\\godin033\\anaconda3\\lib\\site-packages (from requests->folium) (1.25.9)\n",
      "Requirement already satisfied: MarkupSafe>=0.23 in c:\\users\\godin033\\anaconda3\\lib\\site-packages (from jinja2>=2.9->folium) (1.1.1)\n"
     ]
    }
   ],
   "source": [
    "#libraties needed for heatmap\n",
    "!pip install folium\n",
    "import numpy                 as np\n",
    "import pandas                as pd\n",
    "import matplotlib.pyplot     as plt\n",
    "import seaborn               as sns\n",
    "import folium  #needed for interactive map\n",
    "from folium.plugins import HeatMap\n",
    "%matplotlib inline\n",
    "sns.set()"
   ]
  },
  {
   "cell_type": "code",
   "execution_count": 2,
   "metadata": {},
   "outputs": [],
   "source": [
    "#Zoom into area\n",
    "ny_coords = [46, -94] # lat, long\n"
   ]
  },
  {
   "cell_type": "code",
   "execution_count": 3,
   "metadata": {},
   "outputs": [
    {
     "ename": "NameError",
     "evalue": "name 'folium' is not defined",
     "output_type": "error",
     "traceback": [
      "\u001b[1;31m---------------------------------------------------------------------------\u001b[0m",
      "\u001b[1;31mNameError\u001b[0m                                 Traceback (most recent call last)",
      "\u001b[1;32m<ipython-input-3-41c0543b3afd>\u001b[0m in \u001b[0;36m<module>\u001b[1;34m\u001b[0m\n\u001b[0;32m      1\u001b[0m \u001b[1;31m#heat map\u001b[0m\u001b[1;33m\u001b[0m\u001b[1;33m\u001b[0m\u001b[1;33m\u001b[0m\u001b[0m\n\u001b[1;32m----> 2\u001b[1;33m \u001b[0mfolium_hmap\u001b[0m \u001b[1;33m=\u001b[0m \u001b[0mfolium\u001b[0m\u001b[1;33m.\u001b[0m\u001b[0mMap\u001b[0m\u001b[1;33m(\u001b[0m\u001b[0mlocation\u001b[0m\u001b[1;33m=\u001b[0m\u001b[0mny_coords\u001b[0m\u001b[1;33m,\u001b[0m \u001b[0mzoom_start\u001b[0m\u001b[1;33m=\u001b[0m\u001b[1;36m6\u001b[0m\u001b[1;33m,\u001b[0m \u001b[0mtiles\u001b[0m\u001b[1;33m=\u001b[0m\u001b[1;34m\"CartoDB positron\"\u001b[0m\u001b[1;33m)\u001b[0m\u001b[1;33m\u001b[0m\u001b[1;33m\u001b[0m\u001b[0m\n\u001b[0m",
      "\u001b[1;31mNameError\u001b[0m: name 'folium' is not defined"
     ]
    }
   ],
   "source": [
    "#heat map\n",
    "folium_hmap = folium.Map(location=ny_coords, zoom_start=6, tiles=\"CartoDB positron\")"
   ]
  },
  {
   "cell_type": "code",
   "execution_count": 107,
   "metadata": {},
   "outputs": [
    {
     "data": {
      "text/plain": [
       "375654"
      ]
     },
     "execution_count": 107,
     "metadata": {},
     "output_type": "execute_result"
    }
   ],
   "source": [
    "#zip coordinates from diverse dataset\n",
    "my_zip = zip(df_diverse['vb_tsmart_latitude'], df_diverse['vb_tsmart_longitude'])\n",
    "list_of_my_zip = list(my_zip)\n",
    "list_of_my_zip[0:15]\n",
    "len(list_of_my_zip)"
   ]
  },
  {
   "cell_type": "code",
   "execution_count": 108,
   "metadata": {},
   "outputs": [],
   "source": [
    "hm_layer = HeatMap(list_of_my_zip,\n",
    "                   # These are parameters that we tweak manually to adjust color\n",
    "                   # See folium docs for more information\n",
    "                   min_opacity=0.2,\n",
    "                   radius=8,\n",
    "                   blur=6, \n",
    "                 )"
   ]
  },
  {
   "cell_type": "code",
   "execution_count": 1,
   "metadata": {},
   "outputs": [
    {
     "ename": "NameError",
     "evalue": "name 'folium_hmap' is not defined",
     "output_type": "error",
     "traceback": [
      "\u001b[1;31m---------------------------------------------------------------------------\u001b[0m",
      "\u001b[1;31mNameError\u001b[0m                                 Traceback (most recent call last)",
      "\u001b[1;32m<ipython-input-1-50e5f1eba7d8>\u001b[0m in \u001b[0;36m<module>\u001b[1;34m\u001b[0m\n\u001b[1;32m----> 1\u001b[1;33m \u001b[0mfolium_hmap\u001b[0m\u001b[1;33m.\u001b[0m\u001b[0madd_child\u001b[0m\u001b[1;33m(\u001b[0m\u001b[0mhm_layer\u001b[0m\u001b[1;33m)\u001b[0m\u001b[1;33m\u001b[0m\u001b[1;33m\u001b[0m\u001b[0m\n\u001b[0m\u001b[0;32m      2\u001b[0m \u001b[0mfolium_hmap\u001b[0m\u001b[1;33m\u001b[0m\u001b[1;33m\u001b[0m\u001b[0m\n",
      "\u001b[1;31mNameError\u001b[0m: name 'folium_hmap' is not defined"
     ]
    }
   ],
   "source": [
    "folium_hmap.add_child(hm_layer)\n",
    "folium_hmap"
   ]
  },
  {
   "cell_type": "markdown",
   "metadata": {},
   "source": [
    "## EDA for Salary"
   ]
  },
  {
   "cell_type": "code",
   "execution_count": 6,
   "metadata": {},
   "outputs": [
    {
     "data": {
      "text/plain": [
       "array(['01_<40k', '05_200k+', '02_40k-99k', '03_100k-140k', nan,\n",
       "       '04_140k-200k'], dtype=object)"
      ]
     },
     "execution_count": 6,
     "metadata": {},
     "output_type": "execute_result"
    }
   ],
   "source": [
    "df_mn['hh_income'].unique()\n",
    "#there seems to be 5 bins for household income \n",
    "#1- less than 40K\n",
    "#2- between 40K-99K\n",
    "#3- between 100K-140K\n",
    "#4- between 140K-200K\n",
    "#5- more than 200K"
   ]
  },
  {
   "cell_type": "code",
   "execution_count": 36,
   "metadata": {},
   "outputs": [
    {
     "data": {
      "text/html": [
       "<div>\n",
       "<style scoped>\n",
       "    .dataframe tbody tr th:only-of-type {\n",
       "        vertical-align: middle;\n",
       "    }\n",
       "\n",
       "    .dataframe tbody tr th {\n",
       "        vertical-align: top;\n",
       "    }\n",
       "\n",
       "    .dataframe thead th {\n",
       "        text-align: right;\n",
       "    }\n",
       "</style>\n",
       "<table border=\"1\" class=\"dataframe\">\n",
       "  <thead>\n",
       "    <tr style=\"text-align: right;\">\n",
       "      <th></th>\n",
       "      <th>vb_voterbase_race</th>\n",
       "      <th>Education</th>\n",
       "      <th>hh_income</th>\n",
       "      <th>raw count</th>\n",
       "    </tr>\n",
       "  </thead>\n",
       "  <tbody>\n",
       "    <tr>\n",
       "      <th>0</th>\n",
       "      <td>African-American</td>\n",
       "      <td>College Graduate</td>\n",
       "      <td>01_&lt;40k</td>\n",
       "      <td>269</td>\n",
       "    </tr>\n",
       "    <tr>\n",
       "      <th>1</th>\n",
       "      <td>African-American</td>\n",
       "      <td>College Graduate</td>\n",
       "      <td>02_40k-99k</td>\n",
       "      <td>446</td>\n",
       "    </tr>\n",
       "    <tr>\n",
       "      <th>2</th>\n",
       "      <td>African-American</td>\n",
       "      <td>College Graduate</td>\n",
       "      <td>03_100k-140k</td>\n",
       "      <td>64</td>\n",
       "    </tr>\n",
       "    <tr>\n",
       "      <th>3</th>\n",
       "      <td>African-American</td>\n",
       "      <td>College Graduate</td>\n",
       "      <td>04_140k-200k</td>\n",
       "      <td>24</td>\n",
       "    </tr>\n",
       "    <tr>\n",
       "      <th>4</th>\n",
       "      <td>African-American</td>\n",
       "      <td>College Graduate</td>\n",
       "      <td>05_200k+</td>\n",
       "      <td>17</td>\n",
       "    </tr>\n",
       "    <tr>\n",
       "      <th>...</th>\n",
       "      <td>...</td>\n",
       "      <td>...</td>\n",
       "      <td>...</td>\n",
       "      <td>...</td>\n",
       "    </tr>\n",
       "    <tr>\n",
       "      <th>135</th>\n",
       "      <td>Uncoded</td>\n",
       "      <td>Some College</td>\n",
       "      <td>01_&lt;40k</td>\n",
       "      <td>41</td>\n",
       "    </tr>\n",
       "    <tr>\n",
       "      <th>136</th>\n",
       "      <td>Uncoded</td>\n",
       "      <td>Some College</td>\n",
       "      <td>02_40k-99k</td>\n",
       "      <td>164</td>\n",
       "    </tr>\n",
       "    <tr>\n",
       "      <th>137</th>\n",
       "      <td>Uncoded</td>\n",
       "      <td>Some College</td>\n",
       "      <td>03_100k-140k</td>\n",
       "      <td>32</td>\n",
       "    </tr>\n",
       "    <tr>\n",
       "      <th>138</th>\n",
       "      <td>Uncoded</td>\n",
       "      <td>Some College</td>\n",
       "      <td>04_140k-200k</td>\n",
       "      <td>15</td>\n",
       "    </tr>\n",
       "    <tr>\n",
       "      <th>139</th>\n",
       "      <td>Uncoded</td>\n",
       "      <td>Some College</td>\n",
       "      <td>05_200k+</td>\n",
       "      <td>11</td>\n",
       "    </tr>\n",
       "  </tbody>\n",
       "</table>\n",
       "<p>140 rows × 4 columns</p>\n",
       "</div>"
      ],
      "text/plain": [
       "    vb_voterbase_race         Education     hh_income  raw count\n",
       "0    African-American  College Graduate       01_<40k        269\n",
       "1    African-American  College Graduate    02_40k-99k        446\n",
       "2    African-American  College Graduate  03_100k-140k         64\n",
       "3    African-American  College Graduate  04_140k-200k         24\n",
       "4    African-American  College Graduate      05_200k+         17\n",
       "..                ...               ...           ...        ...\n",
       "135           Uncoded      Some College       01_<40k         41\n",
       "136           Uncoded      Some College    02_40k-99k        164\n",
       "137           Uncoded      Some College  03_100k-140k         32\n",
       "138           Uncoded      Some College  04_140k-200k         15\n",
       "139           Uncoded      Some College      05_200k+         11\n",
       "\n",
       "[140 rows x 4 columns]"
      ]
     },
     "execution_count": 36,
     "metadata": {},
     "output_type": "execute_result"
    }
   ],
   "source": [
    "income_analysis=df_mn.groupby(['vb_voterbase_race','Education','hh_income'])['hh_income'].count()\n",
    "income_analysis=income_analysis.to_frame()\n",
    "income_analysis=income_analysis.rename(columns={'hh_income':'raw count'})\n",
    "income_analysis=income_analysis.reset_index()\n",
    "income_analysis"
   ]
  },
  {
   "cell_type": "code",
   "execution_count": 68,
   "metadata": {},
   "outputs": [
    {
     "data": {
      "image/png": "[encoded data removed]",
      "text/plain": [
       "<Figure size 973.475x1296 with 6 Axes>"
      ]
     },
     "metadata": {},
     "output_type": "display_data"
    }
   ],
   "source": [
    "#bar plot to analyze this data\n",
    "\n",
    "g = sns.FacetGrid(income_analysis, col=\"Education\",size=6, aspect=1,margin_titles=True,col_wrap=2,sharey=False,sharex=False)\n",
    "g.map(sns.barplot, \"vb_voterbase_race\", \"raw count\", 'hh_income', order=['Caucasian', 'Uncoded', 'African-American', 'Asian',\n",
    "       'Native American', 'Hispanic', 'Other'])\n",
    "g.add_legend()\n",
    "g.set_xticklabels(rotation=-10,fontsize=8)\n",
    "g.savefig('education.png')\n",
    "\n",
    "\n"
   ]
  },
  {
   "cell_type": "markdown",
   "metadata": {},
   "source": [
    "Look at how data is different by education and occupation[tech]"
   ]
  },
  {
   "cell_type": "code",
   "execution_count": 102,
   "metadata": {},
   "outputs": [
    {
     "data": {
      "text/plain": [
       "Index(['vb_voterbase_id', 'vb_voterbase_household_id',\n",
       "       'vb_tsmart_exact_address_track', 'vb_tsmart_latitude',\n",
       "       'vb_tsmart_longitude', 'vb_tsmart_zip', 'vb_tsmart_state',\n",
       "       'vb_tsmart_level', 'vb_tsmart_county_name', 'vb_tsmart_county_code',\n",
       "       'add_type', 'tsmart_geo_confidence', 'vb_voterbase_gender',\n",
       "       'vb_voterbase_race', 'vb_education', 'tb_education_cd',\n",
       "       'tb_college_age_flg', 'tb_starting_out_flg', 'tb_career_bldr_flg',\n",
       "       'tb_prime_earner_flg', 'tb_retiree_flg', 'vb_occupation',\n",
       "       'tb_occupation_cd', 'xpg_ind_lvl_occupation_code',\n",
       "       'xpg_ind_lvl_occupation_group', 'hh_income', 'tb_income_range_prem_cd',\n",
       "       'xpg_ind_lvl_business_owner', 'vb_business_owner_indicator',\n",
       "       'vb_business_size_code', 'vb_business_type',\n",
       "       'vb_business_revenue_range', 'tb_business_owner_flg', 'tb_boah_flg',\n",
       "       'tb_boah_biz_size_cd', 'tb_boah_biz_source_cd', 'tb_boah_biz_rank_cd',\n",
       "       'tb_boah_biz_func_cd', 'tb_boah_biz_revenue_cd', 'tb_boah_biz_sic_cd',\n",
       "       'tb_boah_biz_sic_2_cd', 'Occupation', 'Education'],\n",
       "      dtype='object')"
      ]
     },
     "execution_count": 102,
     "metadata": {},
     "output_type": "execute_result"
    }
   ],
   "source": [
    "#look at tech jobs:\n",
    "tech=df[df['Occupation']=='Professional/Technical']\n",
    "tech.columns"
   ]
  },
  {
   "cell_type": "code",
   "execution_count": 100,
   "metadata": {},
   "outputs": [
    {
     "data": {
      "text/plain": [
       "Index(['vb_voterbase_race', 'Education', 'hh_income', 'raw count'], dtype='object')"
      ]
     },
     "execution_count": 100,
     "metadata": {},
     "output_type": "execute_result"
    }
   ],
   "source": [
    "#only technical jobs from the large dataset\n",
    "income_occ_analysis=tech.groupby(['vb_voterbase_race','Education','hh_income'])['hh_income'].count()\n",
    "income_occ_analysis=income_occ_analysis.to_frame()\n",
    "income_occ_analysis=income_occ_analysis.rename(columns={'hh_income':'raw count'})\n",
    "income_occ_analysis=income_occ_analysis.reset_index()\n",
    "income_occ_analysis.columns"
   ]
  },
  {
   "cell_type": "code",
   "execution_count": 101,
   "metadata": {},
   "outputs": [
    {
     "name": "stderr",
     "output_type": "stream",
     "text": [
      "C:\\Users\\godin033\\Anaconda3\\lib\\site-packages\\seaborn\\axisgrid.py:243: UserWarning: The `size` parameter has been renamed to `height`; please update your code.\n",
      "  warnings.warn(msg, UserWarning)\n",
      "C:\\Users\\godin033\\Anaconda3\\lib\\site-packages\\seaborn\\axisgrid.py:728: UserWarning: Using the barplot function without specifying `hue_order` is likely to produce an incorrect plot.\n",
      "  warnings.warn(warning)\n"
     ]
    },
    {
     "data": {
      "image/png": "[encoded data removed]",
      "text/plain": [
       "<Figure size 973.475x1296 with 6 Axes>"
      ]
     },
     "metadata": {},
     "output_type": "display_data"
    }
   ],
   "source": [
    "g = sns.FacetGrid(income_occ_analysis, col=\"Education\",size=6, aspect=1,margin_titles=True,col_wrap=2,sharey=False,sharex=False)\n",
    "g.map(sns.barplot, \"vb_voterbase_race\", \"raw count\", 'hh_income', order=['Caucasian', 'Uncoded', 'African-American', 'Asian',\n",
    "       'Native American', 'Hispanic', 'Other'])\n",
    "g.add_legend()\n",
    "g.set_xticklabels(rotation=-10,fontsize=8)\n",
    "g.savefig('education_tech.png')"
   ]
  },
  {
   "cell_type": "code",
   "execution_count": null,
   "metadata": {},
   "outputs": [],
   "source": []
  }
 ],
 "metadata": {
  "kernelspec": {
   "display_name": "Python 3",
   "language": "python",
   "name": "python3"
  },
  "language_info": {
   "codemirror_mode": {
    "name": "ipython",
    "version": 3
   },
   "file_extension": ".py",
   "mimetype": "text/x-python",
   "name": "python",
   "nbconvert_exporter": "python",
   "pygments_lexer": "ipython3",
   "version": "3.8.3"
  }
 },
 "nbformat": 4,
 "nbformat_minor": 4
}
