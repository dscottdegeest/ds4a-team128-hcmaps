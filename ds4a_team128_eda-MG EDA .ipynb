{
 "cells": [
  {
   "cell_type": "code",
   "execution_count": null,
   "metadata": {},
   "outputs": [],
   "source": [
    "#use this command to install the required packages \n",
    "!pip install -r requirements.txt "
   ]
  },
  {
   "cell_type": "code",
   "execution_count": null,
   "metadata": {},
   "outputs": [],
   "source": [
    "#install these packages to get the resources you need\n",
    "import pandas as pd\n",
    "import numpy as np\n",
    "import requests\n",
    "import dask as dd\n",
    "import seaborn as sns"
   ]
  },
  {
   "cell_type": "code",
   "execution_count": null,
   "metadata": {},
   "outputs": [],
   "source": [
    "%%time \n",
    "\n",
    "#here is the link to the file in Google Drive\n",
    "#V1 data\n",
    "#url_raw='https://drive.google.com/file/d/1_mrcfR02LP_anbtdYq0Q1YuRN5-JCHE1/view?usp=sharing'\n",
    "\n",
    "\n",
    "# url_raw = 'https://drive.google.com/file/d/13vj4YxKRs1Tw1VPGhTefBxxKQuC5pRd_/view?usp=sharing'\n",
    "# #url_raw_mn = 'https://drive.google.com/file/d/1YRh58UiKWNtxfvYa0IzFF3oYL42iBs7d/view?usp=sharing'\n",
    "# req = requests.get(url_raw)\n",
    "# url_content = req.content\n",
    "# with open('test_data.csv',encoding=\"utf-8\") as file:\n",
    "#     df=pd.read_csv(file,delimiter=',')\n",
    "#========Straight loading the data==============\n",
    "df=pd.read_csv('test_data_v1.csv',delimiter=',')\n",
    "\n",
    "#===========Directly from my laptop============\n",
    "# tab=pd.read_csv('test_data_v1.csv',delimiter=',',iterator=True,chunksize=200000)\n",
    "# df=pd.concat(tab)\n",
    "    \n",
    "\n",
    "\n",
    "\n",
    "# req_mn = requests.get(url_raw_mn)\n",
    "# url_content_mn = req_mn.content\n",
    "# with open('test_data_mn.csv',) as file_mn:\n",
    "#     df_mn=pd.read_csv(file_mn,delimiter=',')"
   ]
  },
  {
   "cell_type": "code",
   "execution_count": null,
   "metadata": {},
   "outputs": [],
   "source": [
    "df.columns"
   ]
  },
  {
   "cell_type": "code",
   "execution_count": null,
   "metadata": {},
   "outputs": [],
   "source": [
    "#uncode the education;gender;race columns with targetsmart data \n",
    "#1. load targetsmart data\n",
    "target_smart=pd.read_excel('targetsmart_data_dictionary_q2_2021.xlsx',sheet_name='Copy of Raw TargetSmart Field V',header=2)"
   ]
  },
  {
   "cell_type": "code",
   "execution_count": null,
   "metadata": {},
   "outputs": [],
   "source": [
    "df.columns\n",
    "#target_smart.columns=target_smart.iloc[1]\n",
    "target_smart.drop(target_smart.index[[0,1]],inplace=True)\n",
    "target_smart.head()"
   ]
  },
  {
   "cell_type": "code",
   "execution_count": null,
   "metadata": {},
   "outputs": [],
   "source": [
    "#grouping the data.\n",
    "\n",
    "\n",
    "df.groupby(['vb_tsmart_zip'])['vb_tsmart_zip'].count()\n",
    "#p_summ = p.groupby( attributes_list, as_index=False ).agg( {'AMT':sum })\n"
   ]
  },
  {
   "cell_type": "code",
   "execution_count": null,
   "metadata": {},
   "outputs": [],
   "source": [
    "#look at the properties of the two datasets \n",
    "#print(df.head())\n",
    "print(df.shape)\n",
    "\n",
    "\n",
    "# print(df_mn.head())\n",
    "# print(df_mn.shape)"
   ]
  },
  {
   "cell_type": "markdown",
   "metadata": {},
   "source": [
    "# Data cleaning for Human Capital Project"
   ]
  },
  {
   "cell_type": "markdown",
   "metadata": {},
   "source": [
    "First Goal: Create a column that identifies whether or not someone works in tech based upon a) their occupation status and/or b) working for/owning a company with a SIC code in the technology sector (i.e., any org with a code in the office of technology) "
   ]
  },
  {
   "cell_type": "code",
   "execution_count": null,
   "metadata": {},
   "outputs": [],
   "source": [
    "# Data cleaning for test mn data, but can be motified for larger dataset (do not want to crash my laptop while testing)\n",
    "##Need to create a binary column that identifies if someone is in tech\n",
    "df.groupby('vb_occupation')['vb_occupation'].count()"
   ]
  },
  {
   "cell_type": "code",
   "execution_count": null,
   "metadata": {},
   "outputs": [],
   "source": [
    "df['vb_occupation'].unique()"
   ]
  },
  {
   "cell_type": "code",
   "execution_count": null,
   "metadata": {},
   "outputs": [],
   "source": [
    "#Other occupation marker\n",
    "df.groupby('tb_occupation_cd')['tb_occupation_cd'].count()"
   ]
  },
  {
   "cell_type": "code",
   "execution_count": null,
   "metadata": {},
   "outputs": [],
   "source": [
    "df['tb_occupation_cd'].unique()"
   ]
  },
  {
   "cell_type": "code",
   "execution_count": null,
   "metadata": {},
   "outputs": [],
   "source": [
    "#compare both occupations columns\n",
    "df['Occupation_Match'] = np.where(df['vb_occupation']==df['tb_occupation_cd'], \n",
    "                                           'yes', 'no')"
   ]
  },
  {
   "cell_type": "code",
   "execution_count": null,
   "metadata": {},
   "outputs": [],
   "source": [
    "df.groupby('tb_boah_biz_sic_cd')['tb_boah_biz_sic_cd'].count()\n",
    "#834 different codes"
   ]
  },
  {
   "cell_type": "code",
   "execution_count": null,
   "metadata": {},
   "outputs": [],
   "source": []
  },
  {
   "cell_type": "code",
   "execution_count": null,
   "metadata": {},
   "outputs": [],
   "source": [
    "df['tb_boah_biz_sic_cd'].astype(int, errors = 'ignore').astype(str).split('.')"
   ]
  },
  {
   "cell_type": "code",
   "execution_count": null,
   "metadata": {},
   "outputs": [],
   "source": [
    "df.groupby('tb_boah_biz_sic_2_cd')['tb_boah_biz_sic_2_cd'].count()\n",
    "#89 different codes"
   ]
  },
  {
   "cell_type": "code",
   "execution_count": null,
   "metadata": {},
   "outputs": [],
   "source": [
    "# load in file with SIC codes\n",
    "sic_codes=pd.read_excel('SIC_Codes_5.31.2021.xlsx')\n",
    "sic_codes.columns"
   ]
  },
  {
   "cell_type": "markdown",
   "metadata": {},
   "source": [
    "#make a dictionary (First attempt)\n",
    "sic_dict=sic_codes.to_dict('records')\n",
    "sic_dict"
   ]
  },
  {
   "cell_type": "code",
   "execution_count": null,
   "metadata": {},
   "outputs": [],
   "source": [
    "# antoher type of dictionary that may be easier to manuver\n",
    "sic_dict2=sic_codes.set_index('SIC Code').to_dict()['Office']\n",
    "sic_dict2"
   ]
  },
  {
   "cell_type": "code",
   "execution_count": null,
   "metadata": {},
   "outputs": [],
   "source": [
    "#in the dataframe SIC Code is #.0 so the column needs to be clean\n",
    "list_SIC_occ=[]\n",
    "for occ_val in df['tb_boah_biz_sic_cd']:\n",
    "    clean_val=str(occ_val).split('.')[0]\n",
    "    list_SIC_occ.append(clean_val)\n",
    "    \n",
    "# add column with values\n",
    "\n",
    "df['SIC_code']=df['tb_boah_biz_sic_cd'].map(sic_dict2)\n",
    "df.head()\n",
    "df['SIC_code'].unique()"
   ]
  },
  {
   "cell_type": "code",
   "execution_count": null,
   "metadata": {},
   "outputs": [],
   "source": [
    "#dictionary for occupation\n",
    "occ_codes=target_smart['Field']=='vb.occupation'\n",
    "occ_df=target_smart[occ_codes]\n",
    "occ_df.drop(occ_df.index[[0]],inplace=True)\n",
    "occ_df.head()"
   ]
  },
  {
   "cell_type": "code",
   "execution_count": null,
   "metadata": {},
   "outputs": [],
   "source": [
    "occ_dict=occ_df.set_index('Field Value').to_dict()['Value Description']"
   ]
  },
  {
   "cell_type": "code",
   "execution_count": null,
   "metadata": {},
   "outputs": [],
   "source": [
    "df['Occupation_vb']=df['vb_occupation'].map(occ_dict)\n",
    "df['Occupation_vb'].unique()\n",
    "#'Professional/Technical', 'Medical/Health Services',\n",
    "#        'Sales/Service', 'Administrative/Management', 'Financial Services',\n",
    "#        'Skilled Trade', 'Upper Management/Executive', 'Office/Clerical',\n",
    "#        'Self Employed', 'Farming/Agriculture', 'Military',\n",
    "#        'Teacher/Educator', 'Legal Services', 'Religious'"
   ]
  },
  {
   "cell_type": "code",
   "execution_count": null,
   "metadata": {},
   "outputs": [],
   "source": [
    "df['Occupation_tb']=df['tb_occupation_cd'].map(occ_dict)\n",
    "df['Occupation_tb'].unique()\n",
    "# 'Office/Clerical', nan, 'Medical/Health Services',\n",
    "#        'Professional/Technical', 'Skilled Trade', 'Farming/Agriculture',\n",
    "#        'Upper Management/Executive', 'Sales/Service', 'Military',\n",
    "#        'Legal Services', 'Religious', 'Self Employed',\n",
    "#        'Financial Services', 'Teacher/Educator',\n",
    "#        'Administrative/Management"
   ]
  },
  {
   "cell_type": "markdown",
   "metadata": {},
   "source": [
    "Second Goal: Create a column with a binary code for “tech_hub_zip9” that identifies all zip codes that are associated with the current tech hubs: New York, Boston, Seattle, San Francisco, and San Jose"
   ]
  },
  {
   "cell_type": "code",
   "execution_count": null,
   "metadata": {},
   "outputs": [],
   "source": [
    "tech_zip=pd.read_excel('Tech_ZipCodes.xlsx')\n",
    "tech_zipl=tech_zip['Zip Code'].to_list()\n",
    "\n",
    "tech_zipl\n"
   ]
  },
  {
   "cell_type": "code",
   "execution_count": null,
   "metadata": {},
   "outputs": [],
   "source": [
    "zip_bin=[]\n",
    "tech_ziplist=tech_zipl # this is a test list, but once we finalize a zip code list we can\n",
    "for zip_code in df['vb_tsmart_zip']:\n",
    "    if zip_code in tech_ziplist:\n",
    "        zip_code=1\n",
    "        zip_bin.append(zip_code)\n",
    "    else:\n",
    "        zip_code=0\n",
    "        zip_bin.append(zip_code)\n",
    "        \n",
    "zip_bin"
   ]
  },
  {
   "cell_type": "code",
   "execution_count": null,
   "metadata": {},
   "outputs": [],
   "source": [
    "#create new column with this\n",
    "df['tech_hub_zip9']=zip_bin"
   ]
  },
  {
   "cell_type": "markdown",
   "metadata": {},
   "source": [
    "Third Goal: Review coding for education, gender, and race to make sure ACS coding maps to coding in Targetsmart data."
   ]
  },
  {
   "cell_type": "code",
   "execution_count": null,
   "metadata": {},
   "outputs": [],
   "source": [
    "#2 dictionary for race\n",
    "race_codes=target_smart['Field']=='vb.voterbase_race'\n",
    "race_df=target_smart[race_codes]\n",
    "race_df.head()"
   ]
  },
  {
   "cell_type": "code",
   "execution_count": null,
   "metadata": {},
   "outputs": [],
   "source": [
    "#3 dictionary for gender\n",
    "gender_codes=target_smart['Field']=='vb.voterbase_gender'\n",
    "gender_df=target_smart[gender_codes]\n",
    "gender_df.head()"
   ]
  },
  {
   "cell_type": "code",
   "execution_count": null,
   "metadata": {},
   "outputs": [],
   "source": [
    "#4 dictionary for education\n",
    "edu_codes=target_smart['Field']=='vb.education'\n",
    "edu_df=target_smart[edu_codes]\n",
    "edu_df.drop(edu_df.index[[0]],inplace=True)\n",
    "edu_df.head()"
   ]
  },
  {
   "cell_type": "code",
   "execution_count": null,
   "metadata": {},
   "outputs": [],
   "source": [
    "#edu dictionary\n",
    "edu_dict=edu_df.set_index('Field Value').to_dict()['Value Description']\n",
    "edu_dict"
   ]
  },
  {
   "cell_type": "code",
   "execution_count": null,
   "metadata": {},
   "outputs": [],
   "source": [
    "#created a categorical column for education\n",
    "df['Education']=df['vb_education'].map(edu_dict)\n",
    "df.head()"
   ]
  },
  {
   "cell_type": "code",
   "execution_count": null,
   "metadata": {},
   "outputs": [],
   "source": [
    "df.columns"
   ]
  },
  {
   "cell_type": "code",
   "execution_count": null,
   "metadata": {},
   "outputs": [],
   "source": [
    "df['tb_college_age_flg'].replace({1.: '18-22 years old'}, inplace=True)\n",
    "df['tb_starting_out_flg'].replace({1.: '23-30 years old'}, inplace=True)\n",
    "df['tb_career_bldr_flg'].replace({1.: '31-45 years old'}, inplace=True)\n",
    "df['tb_prime_earner_flg'].replace({1.: '46-64 years old'}, inplace=True)\n",
    "df['tb_retiree_flg'].replace({1.: '65 years or older'}, inplace=True)\n",
    "\n"
   ]
  },
  {
   "cell_type": "code",
   "execution_count": null,
   "metadata": {},
   "outputs": [],
   "source": [
    "college_flag=target_smart['Field']=='tb.prime_earner_flg'\n",
    "college_df=target_smart[college_flag]\n",
    "college_df['Field Description'].unique()"
   ]
  },
  {
   "cell_type": "code",
   "execution_count": null,
   "metadata": {},
   "outputs": [],
   "source": [
    "#insert table\n",
    "#did not have enough memory\n",
    "cols=['tb_college_age_flg', 'tb_starting_out_flg', 'tb_career_bldr_flg',\n",
    "       'tb_prime_earner_flg', 'tb_retiree_flg']\n",
    "df[\"Age Buckets\"] = df[cols].apply(lambda x: ','.join(x.dropna()), axis=1)\n"
   ]
  },
  {
   "cell_type": "markdown",
   "metadata": {},
   "source": [
    "END of First Data Clean Up 6.6.2021"
   ]
  },
  {
   "cell_type": "markdown",
   "metadata": {},
   "source": [
    "**Only use data from POC talent**"
   ]
  },
  {
   "cell_type": "code",
   "execution_count": null,
   "metadata": {},
   "outputs": [],
   "source": [
    "df.groupby('vb_voterbase_race')['vb_voterbase_race'].count()"
   ]
  },
  {
   "cell_type": "code",
   "execution_count": null,
   "metadata": {},
   "outputs": [],
   "source": [
    "df_diverse=df.loc[~((df['vb_voterbase_race']=='Caucasian') |(df['vb_voterbase_race']=='Uncoded')|(df['vb_voterbase_race']=='Other')|(df['vb_voterbase_race']=='Asian')) & (df['Occupation']=='Professional/Technical') ]\n",
    "df_diverse.shape"
   ]
  },
  {
   "cell_type": "markdown",
   "metadata": {},
   "source": [
    "**Sample Heat Map for Minnesota**"
   ]
  },
  {
   "cell_type": "code",
   "execution_count": null,
   "metadata": {},
   "outputs": [],
   "source": [
    "#libraties needed for heatmap\n",
    "!pip install folium\n",
    "import numpy                 as np\n",
    "import pandas                as pd\n",
    "import matplotlib.pyplot     as plt\n",
    "import seaborn               as sns\n",
    "import folium  #needed for interactive map\n",
    "from folium.plugins import HeatMap\n",
    "%matplotlib inline\n",
    "sns.set()"
   ]
  },
  {
   "cell_type": "code",
   "execution_count": null,
   "metadata": {},
   "outputs": [],
   "source": [
    "#Zoom into area\n",
    "ny_coords = [46, -94] # lat, long\n"
   ]
  },
  {
   "cell_type": "code",
   "execution_count": null,
   "metadata": {},
   "outputs": [],
   "source": [
    "#heat map\n",
    "folium_hmap = folium.Map(location=ny_coords, zoom_start=6, tiles=\"CartoDB positron\")"
   ]
  },
  {
   "cell_type": "code",
   "execution_count": null,
   "metadata": {},
   "outputs": [],
   "source": [
    "#zip coordinates from diverse dataset\n",
    "my_zip = zip(df_diverse['vb_tsmart_latitude'], df_diverse['vb_tsmart_longitude'])\n",
    "list_of_my_zip = list(my_zip)\n",
    "list_of_my_zip[0:15]\n",
    "len(list_of_my_zip)"
   ]
  },
  {
   "cell_type": "code",
   "execution_count": null,
   "metadata": {},
   "outputs": [],
   "source": [
    "hm_layer = HeatMap(list_of_my_zip,\n",
    "                   # These are parameters that we tweak manually to adjust color\n",
    "                   # See folium docs for more information\n",
    "                   min_opacity=0.2,\n",
    "                   radius=8,\n",
    "                   blur=6, \n",
    "                 )"
   ]
  },
  {
   "cell_type": "code",
   "execution_count": null,
   "metadata": {},
   "outputs": [],
   "source": [
    "folium_hmap.add_child(hm_layer)\n",
    "folium_hmap"
   ]
  },
  {
   "cell_type": "markdown",
   "metadata": {},
   "source": [
    "## EDA for Salary"
   ]
  },
  {
   "cell_type": "code",
   "execution_count": null,
   "metadata": {},
   "outputs": [],
   "source": [
    "df['hh_income'].unique()\n",
    "#there seems to be 5 bins for household income \n",
    "#1- less than 40K\n",
    "#2- between 40K-99K\n",
    "#3- between 100K-140K\n",
    "#4- between 140K-200K\n",
    "#5- more than 200K\n",
    "\n",
    "df['tb_income_amt']\n",
    "#income listed as ##.0 for individuals"
   ]
  },
  {
   "cell_type": "code",
   "execution_count": null,
   "metadata": {},
   "outputs": [],
   "source": [
    "income_analysis=df.groupby(['vb_voterbase_race','Education','hh_income'])['hh_income'].count()#household income\n",
    "income_analysis=income_analysis.to_frame()\n",
    "income_analysis=income_analysis.rename(columns={'hh_income':'raw count'})\n",
    "income_analysis=income_analysis.reset_index()\n",
    "income_analysis"
   ]
  },
  {
   "cell_type": "code",
   "execution_count": null,
   "metadata": {},
   "outputs": [],
   "source": [
    "#bar plot to analyze this data\n",
    "import seaborn as sns\n",
    "g = sns.FacetGrid(income_analysis, col=\"Education\",size=6, aspect=1,margin_titles=True,col_wrap=2,sharey=False,sharex=False, row_order=['Less than High School Diploma','Some College','High School','College Graduate','Post Graduate','Unknown'])\n",
    "g.map(sns.barplot, \"vb_voterbase_race\", \"raw count\", 'hh_income', order=['Caucasian', 'Uncoded', 'African-American', 'Asian',\n",
    "       'Native American', 'Hispanic', 'Other'])\n",
    "g.add_legend()\n",
    "g.fig.subplots_adjust(top=0.9)\n",
    "g.fig.suptitle('Education and Household Income of All Targetsmart Data')\n",
    "g.set_xticklabels(rotation=-10,fontsize=8)\n",
    "#g.savefig('education.png')\n",
    "\n",
    "\n"
   ]
  },
  {
   "cell_type": "markdown",
   "metadata": {},
   "source": [
    "Look at how data is different by education and occupation[tech]"
   ]
  },
  {
   "cell_type": "code",
   "execution_count": null,
   "metadata": {},
   "outputs": [],
   "source": [
    "#look at tech jobs:\n",
    "tech=df[df['Occupation']=='Professional/Technical']\n",
    "tech.columns\n",
    "#df.columns"
   ]
  },
  {
   "cell_type": "code",
   "execution_count": null,
   "metadata": {},
   "outputs": [],
   "source": [
    "#only technical jobs from the large dataset\n",
    "income_occ_analysis=tech.groupby(['vb_voterbase_race','Education','hh_income'])['hh_income'].count()\n",
    "income_occ_analysis=income_occ_analysis.to_frame()\n",
    "income_occ_analysis=income_occ_analysis.rename(columns={'hh_income':'raw count'})\n",
    "income_occ_analysis=income_occ_analysis.reset_index()\n",
    "income_occ_analysis.columns"
   ]
  },
  {
   "cell_type": "code",
   "execution_count": null,
   "metadata": {},
   "outputs": [],
   "source": [
    "g = sns.FacetGrid(income_occ_analysis, col=\"Education\",size=6, aspect=1,margin_titles=True,col_wrap=2,sharey=False,sharex=False)\n",
    "g.map(sns.barplot, \"vb_voterbase_race\", \"raw count\", 'hh_income', order=['Caucasian', 'Uncoded', 'African-American', 'Asian',\n",
    "       'Native American', 'Hispanic', 'Other'])\n",
    "g.add_legend()\n",
    "g.set_xticklabels(rotation=-10,fontsize=8)\n",
    "g.fig.subplots_adjust(top=0.9)\n",
    "g.fig.suptitle('Technology Education and Household Income of All Targetsmart Data')\n",
    "g.savefig('education_tech.png')"
   ]
  },
  {
   "cell_type": "code",
   "execution_count": null,
   "metadata": {},
   "outputs": [],
   "source": [
    "#income by state\n",
    "income_state_analysis=tech[['vb_voterbase_race','vb_tsmart_state','tb_income_amt']]\n",
    "income_state_analysis"
   ]
  },
  {
   "cell_type": "code",
   "execution_count": null,
   "metadata": {},
   "outputs": [],
   "source": [
    "g = sns.FacetGrid(income_state_analysis, col=\"vb_tsmart_state\",size=6, aspect=1,margin_titles=True,col_wrap=5,sharey=False,sharex=False)\n",
    "g.map(sns.boxplot, \"vb_voterbase_race\", \"tb_income_amt\", order=['Caucasian', 'Uncoded', 'African-American', 'Asian',\n",
    "       'Native American', 'Hispanic', 'Other'])\n",
    "g.add_legend()\n",
    "g.set_xticklabels(rotation=-10,fontsize=8)\n",
    "g.savefig('Income_tech_bystate.png')"
   ]
  },
  {
   "cell_type": "code",
   "execution_count": null,
   "metadata": {},
   "outputs": [],
   "source": [
    "income_state_analysis.groupby(['vb_tsmart_state','vb_voterbase_race'])['tb_income_amt'].describe()"
   ]
  },
  {
   "cell_type": "code",
   "execution_count": null,
   "metadata": {},
   "outputs": [],
   "source": [
    "df.to_csv('test_data_clean_v2.csv')"
   ]
  },
  {
   "cell_type": "code",
   "execution_count": null,
   "metadata": {},
   "outputs": [],
   "source": []
  }
 ],
 "metadata": {
  "kernelspec": {
   "display_name": "Python 3",
   "language": "python",
   "name": "python3"
  },
  "language_info": {
   "codemirror_mode": {
    "name": "ipython",
    "version": 3
   },
   "file_extension": ".py",
   "mimetype": "text/x-python",
   "name": "python",
   "nbconvert_exporter": "python",
   "pygments_lexer": "ipython3",
   "version": "3.8.3"
  }
 },
 "nbformat": 4,
 "nbformat_minor": 4
}
