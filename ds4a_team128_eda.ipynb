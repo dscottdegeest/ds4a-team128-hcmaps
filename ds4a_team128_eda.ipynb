{
 "cells": [
  {
   "cell_type": "code",
   "execution_count": 1,
   "metadata": {},
   "outputs": [
    {
     "name": "stdout",
     "output_type": "stream",
     "text": [
      "\u001b[31mERROR: Invalid requirement: '-'\u001b[0m\r\n"
     ]
    }
   ],
   "source": [
    "#use this command to install the required packages \n",
    "!pip install -r requirements.txt "
   ]
  },
  {
   "cell_type": "code",
   "execution_count": 1,
   "metadata": {},
   "outputs": [],
   "source": [
    "#install these packages to get the resources you need\n",
    "import pandas as pd\n",
    "import numpy as np\n",
    "import requests\n",
    "import dask as dd"
   ]
  },
  {
   "cell_type": "code",
   "execution_count": 2,
   "metadata": {},
   "outputs": [
    {
     "name": "stdout",
     "output_type": "stream",
     "text": [
      "CPU times: user 1min 39s, sys: 2min 23s, total: 4min 2s\n",
      "Wall time: 6min 14s\n"
     ]
    }
   ],
   "source": [
    "%%time \n",
    "#here is the link to the file in Google Drive\n",
    "\n",
    "url_raw = 'https://drive.google.com/file/d/13vj4YxKRs1Tw1VPGhTefBxxKQuC5pRd_/view?usp=sharing'\n",
    "url_raw_mn = 'https://drive.google.com/file/d/1YRh58UiKWNtxfvYa0IzFF3oYL42iBs7d/view?usp=sharing'\n",
    "\n",
    "req = requests.get(url_raw)\n",
    "url_content = req.content\n",
    "with open('test_data.csv',) as file:\n",
    "    df=pd.read_csv(file,delimiter=',')\n",
    "\n",
    "req_mn = requests.get(url_raw_mn)\n",
    "url_content_mn = req_mn.content\n",
    "with open('test_data_mn.csv',) as file_mn:\n",
    "    df_mn=pd.read_csv(file_mn,delimiter=',')"
   ]
  },
  {
   "cell_type": "code",
   "execution_count": 4,
   "metadata": {},
   "outputs": [
    {
     "name": "stdout",
     "output_type": "stream",
     "text": [
      "   vb_voterbase_id vb_voterbase_household_id vb_tsmart_exact_address_track  \\\n",
      "0  AK-000000000020      Y000000186098323KYLE              Y000000186098323   \n",
      "1  AK-000000000250    Y000000182911889OSWALD              Y000000182911889   \n",
      "2  AK-000000000509    Y000000235819126HOLMES              Y000000235819126   \n",
      "3  AK-000000000711     Y000000140159129SCOTT              Y000000140159129   \n",
      "4  AK-000000001144    Y000000084251981LARSEN              Y000000084251981   \n",
      "\n",
      "   vb_tsmart_latitude  vb_tsmart_longitude  vb_tsmart_zip vb_tsmart_state  \\\n",
      "0           61.095810          -149.828888          99516              AK   \n",
      "1           61.184738          -149.751389          99504              AK   \n",
      "2           48.383949          -115.551353          59923              MT   \n",
      "3           61.319233          -149.532120          99577              AK   \n",
      "4           61.423569          -149.480682          99567              AK   \n",
      "\n",
      "  vb_tsmart_level      vb_tsmart_county_name  vb_tsmart_county_code  ...  \\\n",
      "0          Street  MUNICIPALITY OF ANCHORAGE                   20.0  ...   \n",
      "1          Street  MUNICIPALITY OF ANCHORAGE                   20.0  ...   \n",
      "2          Street                    LINCOLN                   53.0  ...   \n",
      "3          Street  MUNICIPALITY OF ANCHORAGE                   20.0  ...   \n",
      "4          Street  MUNICIPALITY OF ANCHORAGE                   20.0  ...   \n",
      "\n",
      "  vb_business_revenue_range tb_business_owner_flg tb_boah_flg  \\\n",
      "0                       NaN                   NaN         NaN   \n",
      "1                         A                   1.0         1.0   \n",
      "2                       NaN                   NaN         NaN   \n",
      "3                         A                   NaN         1.0   \n",
      "4                       NaN                   NaN         NaN   \n",
      "\n",
      "  tb_boah_biz_size_cd  tb_boah_biz_source_cd  tb_boah_biz_rank_cd  \\\n",
      "0                 NaN                    NaN                  NaN   \n",
      "1                   B                      E                  1.0   \n",
      "2                 NaN                    NaN                  NaN   \n",
      "3                   B                      E                  NaN   \n",
      "4                 NaN                    NaN                  NaN   \n",
      "\n",
      "   tb_boah_biz_func_cd  tb_boah_biz_revenue_cd  tb_boah_biz_sic_cd  \\\n",
      "0                  NaN                     NaN                 NaN   \n",
      "1                    D                       A              8748.0   \n",
      "2                  NaN                     NaN                 NaN   \n",
      "3                  NaN                       A                 1.0   \n",
      "4                  NaN                     NaN                 NaN   \n",
      "\n",
      "   tb_boah_biz_sic_2_cd  \n",
      "0                   NaN  \n",
      "1                  87.0  \n",
      "2                   NaN  \n",
      "3                   0.0  \n",
      "4                   NaN  \n",
      "\n",
      "[5 rows x 41 columns]\n",
      "(16819676, 41)\n",
      "  vb_voterbase_id    vb_voterbase_household_id vb_tsmart_exact_address_track  \\\n",
      "0       AK-808785        Y000000222536613MELIN              Y000000222536613   \n",
      "1       AK-904841  Y000000199347266CHRISTENSEN              Y000000199347266   \n",
      "2      AL-2587848        Y000000088555483WENDT              Y000000088555483   \n",
      "3      AL-2825669        Y000000144487643WEISS              Y000000144487643   \n",
      "4       AL-298903        Y000000222254014HOUSE              Y000000222254014   \n",
      "\n",
      "   vb_tsmart_latitude  vb_tsmart_longitude  vb_tsmart_zip vb_tsmart_state  \\\n",
      "0           45.093441           -93.366325          55428              MN   \n",
      "1           45.098728           -92.849533          55082              MN   \n",
      "2           43.692547           -92.384865          55975              MN   \n",
      "3           44.075367           -92.545364          55901              MN   \n",
      "4           44.874409           -93.275841          55423              MN   \n",
      "\n",
      "  vb_tsmart_level vb_tsmart_county_name  vb_tsmart_county_code  ...  \\\n",
      "0          Street              HENNEPIN                   53.0  ...   \n",
      "1          Street            WASHINGTON                  163.0  ...   \n",
      "2          Street              FILLMORE                   45.0  ...   \n",
      "3          Street               OLMSTED                  109.0  ...   \n",
      "4          Street              HENNEPIN                   53.0  ...   \n",
      "\n",
      "  vb_business_revenue_range tb_business_owner_flg tb_boah_flg  \\\n",
      "0                       NaN                   NaN         NaN   \n",
      "1                       NaN                   NaN         NaN   \n",
      "2                       NaN                   NaN         NaN   \n",
      "3                       NaN                   1.0         NaN   \n",
      "4                       NaN                   NaN         NaN   \n",
      "\n",
      "  tb_boah_biz_size_cd  tb_boah_biz_source_cd  tb_boah_biz_rank_cd  \\\n",
      "0                 NaN                    NaN                  NaN   \n",
      "1                 NaN                    NaN                  NaN   \n",
      "2                 NaN                    NaN                  NaN   \n",
      "3                 NaN                    NaN                  NaN   \n",
      "4                 NaN                    NaN                  NaN   \n",
      "\n",
      "   tb_boah_biz_func_cd  tb_boah_biz_revenue_cd  tb_boah_biz_sic_cd  \\\n",
      "0                  NaN                     NaN                 NaN   \n",
      "1                  NaN                     NaN                 NaN   \n",
      "2                  NaN                     NaN                 NaN   \n",
      "3                  NaN                     NaN                 NaN   \n",
      "4                  NaN                     NaN                 NaN   \n",
      "\n",
      "   tb_boah_biz_sic_2_cd  \n",
      "0                   NaN  \n",
      "1                   NaN  \n",
      "2                   NaN  \n",
      "3                   NaN  \n",
      "4                   NaN  \n",
      "\n",
      "[5 rows x 41 columns]\n",
      "(423530, 41)\n"
     ]
    }
   ],
   "source": [
    "#look at the properties of the two datasets \n",
    "print(df.head())\n",
    "print(df.shape)\n",
    "\n",
    "\n",
    "# print(df_mn.head())\n",
    "# print(df_mn.shape)"
   ]
  },
  {
   "cell_type": "code",
   "execution_count": 5,
   "metadata": {},
   "outputs": [
    {
     "data": {
      "text/plain": [
       "Index(['vb_voterbase_id', 'vb_voterbase_household_id',\n",
       "       'vb_tsmart_exact_address_track', 'vb_tsmart_latitude',\n",
       "       'vb_tsmart_longitude', 'vb_tsmart_zip', 'vb_tsmart_state',\n",
       "       'vb_tsmart_level', 'vb_tsmart_county_name', 'vb_tsmart_county_code',\n",
       "       'add_type', 'tsmart_geo_confidence', 'vb_voterbase_gender',\n",
       "       'vb_voterbase_race', 'vb_education', 'tb_education_cd',\n",
       "       'tb_college_age_flg', 'tb_starting_out_flg', 'tb_career_bldr_flg',\n",
       "       'tb_prime_earner_flg', 'tb_retiree_flg', 'vb_occupation',\n",
       "       'tb_occupation_cd', 'xpg_ind_lvl_occupation_code',\n",
       "       'xpg_ind_lvl_occupation_group', 'hh_income', 'tb_income_range_prem_cd',\n",
       "       'xpg_ind_lvl_business_owner', 'vb_business_owner_indicator',\n",
       "       'vb_business_size_code', 'vb_business_type',\n",
       "       'vb_business_revenue_range', 'tb_business_owner_flg', 'tb_boah_flg',\n",
       "       'tb_boah_biz_size_cd', 'tb_boah_biz_source_cd', 'tb_boah_biz_rank_cd',\n",
       "       'tb_boah_biz_func_cd', 'tb_boah_biz_revenue_cd', 'tb_boah_biz_sic_cd',\n",
       "       'tb_boah_biz_sic_2_cd'],\n",
       "      dtype='object')"
      ]
     },
     "execution_count": 5,
     "metadata": {},
     "output_type": "execute_result"
    }
   ],
   "source": [
    "df.columns"
   ]
  }
 ],
 "metadata": {
  "kernelspec": {
   "display_name": "Python 3",
   "language": "python",
   "name": "python3"
  },
  "language_info": {
   "codemirror_mode": {
    "name": "ipython",
    "version": 3
   },
   "file_extension": ".py",
   "mimetype": "text/x-python",
   "name": "python",
   "nbconvert_exporter": "python",
   "pygments_lexer": "ipython3",
   "version": "3.6.10"
  }
 },
 "nbformat": 4,
 "nbformat_minor": 4
}
