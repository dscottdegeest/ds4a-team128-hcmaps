{
 "cells": [
  {
   "cell_type": "code",
   "execution_count": null,
   "metadata": {},
   "outputs": [],
   "source": [
    "#use this command to install the required packages \n",
    "!pip install -r requirements.txt "
   ]
  },
  {
   "cell_type": "code",
   "execution_count": null,
   "metadata": {},
   "outputs": [],
   "source": [
    "#install these packages to get the resources you need\n",
    "import pandas as pd\n",
    "import numpy as np\n",
    "import requests\n",
    "import dask as dd"
   ]
  },
  {
   "cell_type": "code",
   "execution_count": null,
   "metadata": {},
   "outputs": [],
   "source": [
    "%%time \n",
    "#here is the link to the file in Google Drive\n",
    "\n",
    "url_raw = 'https://drive.google.com/file/d/13vj4YxKRs1Tw1VPGhTefBxxKQuC5pRd_/view?usp=sharing'\n",
    "url_raw_mn = 'https://drive.google.com/file/d/1YRh58UiKWNtxfvYa0IzFF3oYL42iBs7d/view?usp=sharing'\n",
    "\n",
    "# req = requests.get(url_raw)\n",
    "# url_content = req.content\n",
    "# with open('test_data.csv',) as file:\n",
    "#     df=pd.read_csv(file,delimiter=',')\n",
    "\n",
    "req_mn = requests.get(url_raw_mn)\n",
    "url_content_mn = req_mn.content\n",
    "with open('test_data_mn.csv',) as file_mn:\n",
    "    df_mn=pd.read_csv(file_mn,delimiter=',')"
   ]
  },
  {
   "cell_type": "code",
   "execution_count": null,
   "metadata": {},
   "outputs": [],
   "source": [
    "#look at the properties of the two datasets \n",
    "# print(df.head())\n",
    "# print(df.shape)\n",
    "\n",
    "\n",
    "print(df_mn.head())\n",
    "#print(df_mn.shape)"
   ]
  },
  {
   "cell_type": "code",
   "execution_count": null,
   "metadata": {},
   "outputs": [],
   "source": [
    "df_mn.columns"
   ]
  },
  {
   "cell_type": "markdown",
   "metadata": {},
   "source": [
    "# Data cleaning for Human Capital Project"
   ]
  },
  {
   "cell_type": "markdown",
   "metadata": {},
   "source": [
    "First Goal: Create a column that identifies whether or not someone works in tech based upon a) their occupation status and/or b) working for/owning a company with a SIC code in the technology sector (i.e., any org with a code in the office of technology) "
   ]
  },
  {
   "cell_type": "code",
   "execution_count": null,
   "metadata": {},
   "outputs": [],
   "source": [
    "# Data cleaning for test mn data, but can be motified for larger dataset (do not want to crash my laptop while testing)\n",
    "##Need to create a binary column that identifies if someone is in tech\n",
    "df_mn.groupby('vb_occupation')['vb_occupation'].count()"
   ]
  },
  {
   "cell_type": "code",
   "execution_count": null,
   "metadata": {},
   "outputs": [],
   "source": [
    "df_mn['vb_occupation'].unique()"
   ]
  },
  {
   "cell_type": "code",
   "execution_count": null,
   "metadata": {},
   "outputs": [],
   "source": [
    "df_mn.groupby('tb_boah_biz_sic_cd')['tb_boah_biz_sic_cd'].count()\n",
    "#834 different codes"
   ]
  },
  {
   "cell_type": "code",
   "execution_count": null,
   "metadata": {},
   "outputs": [],
   "source": [
    "df_mn['tb_boah_biz_sic_cd'].astype(int, errors = 'ignore').astype(str).split('.')"
   ]
  },
  {
   "cell_type": "code",
   "execution_count": null,
   "metadata": {},
   "outputs": [],
   "source": [
    "df_mn.groupby('tb_boah_biz_sic_2_cd')['tb_boah_biz_sic_2_cd'].count()\n",
    "#89 different codes"
   ]
  },
  {
   "cell_type": "code",
   "execution_count": null,
   "metadata": {},
   "outputs": [],
   "source": [
    "# load in file with SIC codes\n",
    "sic_codes=pd.read_excel('SIC_Codes_5.31.2021.xlsx')\n",
    "sic_codes.columns"
   ]
  },
  {
   "cell_type": "markdown",
   "metadata": {},
   "source": [
    "#make a dictionary (First attempt)\n",
    "sic_dict=sic_codes.to_dict('records')\n",
    "sic_dict"
   ]
  },
  {
   "cell_type": "code",
   "execution_count": null,
   "metadata": {},
   "outputs": [],
   "source": [
    "# antoher type of dictionary that may be easier to manuver\n",
    "sic_dict2=sic_codes.set_index('SIC Code').to_dict()['Office']\n",
    "sic_dict2"
   ]
  },
  {
   "cell_type": "code",
   "execution_count": null,
   "metadata": {},
   "outputs": [],
   "source": [
    "#in the dataframe SIC Code is #.0 so the column needs to be clean\n",
    "list_SIC_occ=[]\n",
    "for occ_val in df_mn['tb_boah_biz_sic_cd']:\n",
    "    clean_val=str(occ_val).split('.')[0]\n",
    "    list_SIC_occ.append(clean_val)\n",
    "    \n",
    "# add column with values\n",
    "\n",
    "df_mn['SIC_code']=df_mn['tb_boah_biz_sic_cd'].map(sic_dict2)\n",
    "df_mn.head()\n",
    "df_mn['SIC_code'].unique()"
   ]
  },
  {
   "cell_type": "code",
   "execution_count": null,
   "metadata": {},
   "outputs": [],
   "source": [
    "#dictionary for occupation\n",
    "occ_codes=target_smart['Field']=='vb.occupation'\n",
    "occ_df=target_smart[occ_codes]\n",
    "occ_df.drop(occ_df.index[[0]],inplace=True)\n",
    "occ_df.head()"
   ]
  },
  {
   "cell_type": "code",
   "execution_count": null,
   "metadata": {},
   "outputs": [],
   "source": [
    "occ_dict=occ_df.set_index('Field Value').to_dict()['Value Description']"
   ]
  },
  {
   "cell_type": "code",
   "execution_count": null,
   "metadata": {},
   "outputs": [],
   "source": [
    "df_mn['Occupation']=df_mn['vb.occupation'].map(occ_dict)\n",
    "df_mn['Occupation'].unique()"
   ]
  },
  {
   "cell_type": "markdown",
   "metadata": {},
   "source": [
    "Second Goal: Create a column with a binary code for “tech_hub_zip9” that identifies all zip codes that are associated with the current tech hubs: New York, Boston, Seattle, San Francisco, and San Jose"
   ]
  },
  {
   "cell_type": "code",
   "execution_count": null,
   "metadata": {},
   "outputs": [],
   "source": [
    "tech_zip=pd.read_excel('Tech_ZipCodes.xlsx')\n",
    "tech_zipl=tech_zip['Zip Code'].to_list()\n",
    "\n",
    "tech_zipl\n"
   ]
  },
  {
   "cell_type": "code",
   "execution_count": null,
   "metadata": {},
   "outputs": [],
   "source": [
    "zip_bin=[]\n",
    "tech_ziplist=[55428,55975] # this is a test list, but once we finalize a zip code list we can\n",
    "for zip_code in df_mn['vb_tsmart_zip']:\n",
    "    if zip_code in tech_ziplist:\n",
    "        zip_code=1\n",
    "        zip_bin.append(zip_code)\n",
    "    else:\n",
    "        zip_code=0\n",
    "        zip_bin.append(zip_code)\n",
    "        \n",
    "zip_bin"
   ]
  },
  {
   "cell_type": "code",
   "execution_count": null,
   "metadata": {},
   "outputs": [],
   "source": [
    "#create new column with this\n",
    "df_mn['tech_hub_zip9']=zip_bin"
   ]
  },
  {
   "cell_type": "markdown",
   "metadata": {},
   "source": [
    "Third Goal: Review coding for education, gender, and race to make sure ACS coding maps to coding in Targetsmart data."
   ]
  },
  {
   "cell_type": "code",
   "execution_count": null,
   "metadata": {},
   "outputs": [],
   "source": [
    "#uncode the education;gender;race columns with targetsmart data \n",
    "#1. load targetsmart data\n",
    "target_smart=pd.read_excel('targetsmart_data_dictionary_q2_2021.xlsx',sheet_name='Copy of Raw TargetSmart Field V')"
   ]
  },
  {
   "cell_type": "code",
   "execution_count": null,
   "metadata": {},
   "outputs": [],
   "source": [
    "df_mn.columns"
   ]
  },
  {
   "cell_type": "code",
   "execution_count": null,
   "metadata": {},
   "outputs": [],
   "source": [
    "df_mn.columns\n",
    "target_smart.columns=target_smart.iloc[1]\n",
    "target_smart.drop(target_smart.index[[0,1]],inplace=True)\n",
    "target_smart.head()"
   ]
  },
  {
   "cell_type": "code",
   "execution_count": null,
   "metadata": {},
   "outputs": [],
   "source": [
    "#2 dictionary for race\n",
    "race_codes=target_smart['Field']=='vb.voterbase_race'\n",
    "race_df=target_smart[race_codes]\n",
    "race_df.head()"
   ]
  },
  {
   "cell_type": "code",
   "execution_count": null,
   "metadata": {},
   "outputs": [],
   "source": [
    "#3 dictionary for gender\n",
    "gender_codes=target_smart['Field']=='vb.voterbase_gender'\n",
    "gender_df=target_smart[gender_codes]\n",
    "gender_df.head()"
   ]
  },
  {
   "cell_type": "code",
   "execution_count": null,
   "metadata": {},
   "outputs": [],
   "source": [
    "#4 dictionary for education\n",
    "edu_codes=target_smart['Field']=='vb.education'\n",
    "edu_df=target_smart[edu_codes]\n",
    "edu_df.drop(edu_df.index[[0]],inplace=True)\n",
    "edu_df.head()"
   ]
  },
  {
   "cell_type": "code",
   "execution_count": null,
   "metadata": {},
   "outputs": [],
   "source": [
    "#edu dictionary\n",
    "edu_dict=edu_df.set_index('Field Value').to_dict()['Value Description']\n",
    "edu_dict"
   ]
  },
  {
   "cell_type": "code",
   "execution_count": null,
   "metadata": {},
   "outputs": [],
   "source": [
    "#created a categorical column for education\n",
    "df_mn['Education']=df_mn['vb_education'].map(edu_dict)\n",
    "df_mn.head()"
   ]
  },
  {
   "cell_type": "markdown",
   "metadata": {},
   "source": [
    "END of First Data Clean Up 6.6.2021"
   ]
  },
  {
   "cell_type": "code",
   "execution_count": null,
   "metadata": {},
   "outputs": [],
   "source": []
  }
 ],
 "metadata": {
  "kernelspec": {
   "display_name": "Python 3",
   "language": "python",
   "name": "python3"
  },
  "language_info": {
   "codemirror_mode": {
    "name": "ipython",
    "version": 3
   },
   "file_extension": ".py",
   "mimetype": "text/x-python",
   "name": "python",
   "nbconvert_exporter": "python",
   "pygments_lexer": "ipython3",
   "version": "3.8.3"
  }
 },
 "nbformat": 4,
 "nbformat_minor": 4
}
